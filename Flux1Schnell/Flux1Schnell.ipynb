{
 "cells": [
  {
   "cell_type": "markdown",
   "metadata": {},
   "source": [
    "# Flux1Schnell on CoreAI\n",
    "\n",
    "The CoreAI container is started using the instructions described in the shared `README.md` file which uses `podman` or `docker`."
   ]
  },
  {
   "cell_type": "markdown",
   "metadata": {},
   "source": [
    "## Python virtual environment setup\n",
    "\n",
    "To enhance the functionality of the CoreAI environment, we need to install some libraries not pre-installed in the base container but required for this notebook. \n",
    "\n",
    "### Create and Activate the Virtual Environment:\n",
    "\n",
    "Open your terminal or command prompt within the Jupyter notebook. Navigate via `File -> New -> Terminal` then type `./create_myvenv.sh` to run the script.\n",
    "\n",
    "This script will create a `venv` named `myvenv` in the folder where this notebook is, activate it to install an new Python kernel named \"Python (myvenv-Flux1Schnell)\".\n",
    "\n",
    "## Change the Python kernel\n",
    "\n",
    "Before running the following commands from the `Kernel -> Change Kernel` menu option, **Start python kernel** named `Python (myvenv-Flux1Schnell)` kernel. \n",
    "\n",
    "When succesful, you will see the new kernel name listed in the rop right corner of this notebook.\n",
    "\n",
    "### Install Required Libraries:\n",
    "\n",
    "Ensure you are in the directory where the Jupyter Notebook and the `myvenv` directory are located. "
   ]
  },
  {
   "cell_type": "code",
   "execution_count": null,
   "metadata": {},
   "outputs": [],
   "source": [
    "!. ./myvenv/bin/activate; pip install -r requirements.txt"
   ]
  },
  {
   "cell_type": "markdown",
   "metadata": {},
   "source": [
    "Add `accelerate` to the PATH"
   ]
  },
  {
   "cell_type": "code",
   "execution_count": null,
   "metadata": {},
   "outputs": [],
   "source": [
    "import os\n",
    "pwd = os.getcwd()\n",
    "os.environ['PATH'] =  os.path.join(pwd, 'myvenv/bin') + os.pathsep + os.environ['PATH']\n",
    "\n",
    "! echo $PATH\n",
    "! which accelerate"
   ]
  },
  {
   "cell_type": "markdown",
   "metadata": {},
   "source": [
    "**Make sure `HF_HOME` is set BEFORE `transformers` is loaded**"
   ]
  },
  {
   "cell_type": "code",
   "execution_count": null,
   "metadata": {},
   "outputs": [],
   "source": [
    "import os\n",
    "os.makedirs('HF_HOME', exist_ok=True)\n",
    "os.environ['HF_HOME'] = 'HF_HOME'"
   ]
  },
  {
   "cell_type": "markdown",
   "metadata": {},
   "source": [
    "Verify that the `HF_TOKEN` is set before attempting to load the model (this is passed as an environment variable within the `start_CoreAI.sh` script."
   ]
  },
  {
   "cell_type": "code",
   "execution_count": null,
   "metadata": {},
   "outputs": [],
   "source": [
    "if 'HF_TOKEN' not in os.environ:\n",
    "    printf(\"No HF_TOKEN set, will not be able to download the model\")\n",
    "    exit(1)"
   ]
  },
  {
   "cell_type": "markdown",
   "metadata": {},
   "source": [
    "## Running Flux1Schnell on CoreAI\n",
    "\n",
    "### Obtain model"
   ]
  },
  {
   "cell_type": "code",
   "execution_count": null,
   "metadata": {},
   "outputs": [],
   "source": [
    "import torch\n",
    "from diffusers import FluxPipeline"
   ]
  },
  {
   "cell_type": "code",
   "execution_count": null,
   "metadata": {},
   "outputs": [],
   "source": [
    "pipe = FluxPipeline.from_pretrained(\"black-forest-labs/FLUX.1-schnell\", torch_dtype=torch.bfloat16)\n",
    "pipe.enable_sequential_cpu_offload()\n",
    "torch.cuda.empty_cache()"
   ]
  },
  {
   "cell_type": "markdown",
   "metadata": {},
   "source": [
    "### Image generation\n",
    "\n",
    "Modify the `prompt`, `seed` and `width` and `height` as required."
   ]
  },
  {
   "cell_type": "code",
   "execution_count": null,
   "metadata": {},
   "outputs": [],
   "source": [
    "import random\n",
    "\n",
    "#prompt = \"An ocean reflection on starry night with the word CoreAI in the sky\"\n",
    "#prompt = \"An galaxy with the word CoreAI spelled with stars\"\n",
    "prompt = \"a robot that is full-bodied in shades of teal and blue with yellow accents that has a friendly expression and is waving holding a sign that spells CoreAI\"\n",
    "\n",
    "seed = random.randint(1, 999)\n",
    "width = 1360\n",
    "height = 768\n",
    "\n",
    "image = pipe(\n",
    "    prompt,\n",
    "    guidance_scale=0.0,\n",
    "    num_inference_steps=4,\n",
    "    max_sequence_length=256,\n",
    "    height=height,\n",
    "    width=width,\n",
    "    generator=torch.Generator(\"cpu\").manual_seed(seed)\n",
    ").images[0]\n",
    "image.save(\"flux-schnell.png\")\n",
    "\n",
    "from IPython.display import Image\n",
    "Image(filename='flux-schnell.png') "
   ]
  },
  {
   "cell_type": "code",
   "execution_count": null,
   "metadata": {},
   "outputs": [],
   "source": []
  }
 ],
 "metadata": {
  "kernelspec": {
   "display_name": "Python (myvenv-Flux1Schnell)",
   "language": "python",
   "name": "myvenv"
  },
  "language_info": {
   "codemirror_mode": {
    "name": "ipython",
    "version": 3
   },
   "file_extension": ".py",
   "mimetype": "text/x-python",
   "name": "python",
   "nbconvert_exporter": "python",
   "pygments_lexer": "ipython3",
   "version": "3.12.3"
  }
 },
 "nbformat": 4,
 "nbformat_minor": 4
}
