{
 "cells": [
  {
   "cell_type": "markdown",
   "metadata": {},
   "source": [
    "# SkimLit: Skimming Literature with NLP\n",
    "\n",
    "This notebook uses natural language processing techniques to analyze and classify sentences from scientific abstracts. The goal is to automate the extraction of important information from scientific papers, which is crucial for researchers and professionals who need to quickly review and understand the literature.\n",
    "\n",
    "## Required Datasets\n",
    "\n",
    "**PubMed 20k RCT Dataset**:\n",
    "\n",
    "This notebook utilizes text files from the `PubMed_20k_RCT_numbers_replaced_with_at_sign` folder, which should be downloaded and stored in a `data` directory accessible by the notebook.\n",
    "\n",
    "### How to Download Dataset\n",
    "\n",
    "To access and set up the datasets, please follow these steps:\n",
    "\n",
    "1. Create a `data` folder in your project directory if it doesn't already exist.\n",
    "2. Download the text files from the following Kaggle dataset link:\n",
    "   - [PubMed 20k RCT Dataset](https://www.kaggle.com/datasets/matthewjansen/pubmed-200k-rtc?select=PubMed_200k_RCT_numbers_replaced_with_at_sign) (ensure you comply with the dataset's usage rules).\n",
    "3. Place the downloaded text files into the `data` folder. This step ensures that all data files are ready to be accessed by the notebook.\n",
    "\n",
    "## Contents of the Notebook\n",
    "\n",
    "- **Introduction**: Overview of the project's aim and importance.\n",
    "- **Basic Exploratory Data Analysis**: Initial analysis of the data to understand the distribution and nature of the dataset.\n",
    "- **Text Normalization**: Processing steps to clean and normalize the text data.\n",
    "- **Model Building**: Implementation of various models to classify sentences in scientific abstracts.\n",
    "- **Model Evaluation**: Evaluation of the models' performance using appropriate metrics.\n",
    "\n",
    " ## Install Required Packages\n",
    "\n",
    "- To enhance the functionality of the CTPO environment, you may need to install some libraries not pre-installed but required for this notebook. Follow these steps to install the necessary libraries from the `requirements.txt` file:\n",
    "\n",
    " ### Create and Activate the Virtual Environment:\n",
    "   \n",
    "   Open your terminal or command prompt within the jupyter notebook. `File -> New -> Terminal`\n",
    "   \n",
    "   Navigate to the project directory where you want to set up the environment.\n",
    "   \n",
    "   Execute the following commands in a `bash` to create and activate the virtual environment:\n",
    "   \n",
    "   ```\n",
    "   python3 -m venv --system-site-packages myvenv #myvenv is name of virtual environment you can change it\n",
    "   source myvenv/bin/activate\n",
    "   pip3 install ipykernel\n",
    "   python -m ipykernel install --user --name=myvenv --display-name=\"Python (myvenv)\"\n",
    "   ```\n",
    "\n",
    "### Important Note\n",
    "\n",
    "It is crucial to load the new \"myvenv\" kernel for the notebook to work correctly. If the new \"myvenv\" kernel is not loaded, the required libraries and environment settings will not be applied, and the notebook will not function as expected.\n",
    "\n",
    " ### Install Required Libraries\n",
    "   \n",
    "   Before running the following command in jupyter notebook, make sure you are in the directory where the Jupyter Notebook and virtual environment is located. This ensures the ./ path is always current. You can use the cd command to change to your project directory and pwd to verify your current directory.\n",
    "   "
   ]
  },
  {
   "cell_type": "code",
   "execution_count": 47,
   "metadata": {
    "id": "M_4uoLDr-2b1"
   },
   "outputs": [],
   "source": [
    "!. ./myvenv/bin/activate; pip install --no-deps -r requirements.txt"
   ]
  },
  {
   "cell_type": "code",
   "execution_count": null,
   "metadata": {},
   "outputs": [],
   "source": [
    "import tensorflow as tf\n",
    "import pandas as pd\n",
    "import numpy as np\n",
    "import matplotlib.pyplot as plt\n",
    "import tensorflow_hub as tfhub\n",
    "import os\n",
    "import random\n",
    "import string\n",
    "from helper_functions import *\n",
    "from sklearn.preprocessing import *\n",
    "from sklearn.feature_extraction.text import *\n",
    "from sklearn.naive_bayes import *\n",
    "from sklearn.pipeline import *"
   ]
  },
  {
   "cell_type": "code",
   "execution_count": 48,
   "metadata": {
    "id": "3NFeEsXDmk9G"
   },
   "outputs": [],
   "source": [
    "LOGS_DIR = 'logs/'"
   ]
  },
  {
   "cell_type": "code",
   "execution_count": 49,
   "metadata": {
    "id": "adhR6TajIoMu"
   },
   "outputs": [],
   "source": [
    "data_dir_path = './data/'\n",
    "train_dir_path = data_dir_path + 'train.txt'\n",
    "test_dir_path = data_dir_path + 'test.txt'\n",
    "validation_dir_path = data_dir_path + 'dev.txt'"
   ]
  },
  {
   "cell_type": "code",
   "execution_count": 50,
   "metadata": {
    "colab": {
     "base_uri": "https://localhost:8080/"
    },
    "id": "mk29v3QVJ-yS",
    "outputId": "2684638c-0d2e-4a61-d133-fd0738f1df55"
   },
   "outputs": [
    {
     "data": {
      "text/plain": [
       "['./data/train.txt', './data/dev.txt', './data/test.txt']"
      ]
     },
     "execution_count": 50,
     "metadata": {},
     "output_type": "execute_result"
    }
   ],
   "source": [
    "filenames = [data_dir_path + filename for filename in os.listdir(data_dir_path)]\n",
    "filenames"
   ]
  },
  {
   "cell_type": "code",
   "execution_count": 51,
   "metadata": {
    "id": "73RVapwTKEmJ"
   },
   "outputs": [],
   "source": [
    "def read_doc(filename):\n",
    "  \"\"\"\n",
    "  Reads filename (txt) and returns the lines of text as a list\n",
    "\n",
    "  Args:\n",
    "\n",
    "    filename: A string containing the target filepath\n",
    "\n",
    "  Returns:\n",
    "\n",
    "    A list of strings with one string per line from the target filename\n",
    "  \"\"\"\n",
    "  with open(filename, 'r') as f:\n",
    "    return f.readlines()\n"
   ]
  },
  {
   "cell_type": "code",
   "execution_count": 52,
   "metadata": {
    "colab": {
     "base_uri": "https://localhost:8080/"
    },
    "id": "0EDwtq6PMaPA",
    "outputId": "9b901f87-80a7-4dc6-933b-eaf3a8117ac0"
   },
   "outputs": [
    {
     "data": {
      "text/plain": [
       "['###24293578\\n',\n",
       " 'OBJECTIVE\\tTo investigate the efficacy of @ weeks of daily low-dose oral prednisolone in improving pain , mobility , and systemic low-grade inflammation in the short term and whether the effect would be sustained at @ weeks in older adults with moderate to severe knee osteoarthritis ( OA ) .\\n',\n",
       " 'METHODS\\tA total of @ patients with primary knee OA were randomized @:@ ; @ received @ mg/day of prednisolone and @ received placebo for @ weeks .\\n',\n",
       " 'METHODS\\tOutcome measures included pain reduction and improvement in function scores and systemic inflammation markers .\\n',\n",
       " 'METHODS\\tPain was assessed using the visual analog pain scale ( @-@ mm ) .\\n',\n",
       " 'METHODS\\tSecondary outcome measures included the Western Ontario and McMaster Universities Osteoarthritis Index scores , patient global assessment ( PGA ) of the severity of knee OA , and @-min walk distance ( @MWD ) .\\n',\n",
       " 'METHODS\\tSerum levels of interleukin @ ( IL-@ ) , IL-@ , tumor necrosis factor ( TNF ) - , and high-sensitivity C-reactive protein ( hsCRP ) were measured .\\n',\n",
       " 'RESULTS\\tThere was a clinically relevant reduction in the intervention group compared to the placebo group for knee pain , physical function , PGA , and @MWD at @ weeks .\\n',\n",
       " 'RESULTS\\tThe mean difference between treatment arms ( @ % CI ) was @ ( @-@ @ ) , p < @ ; @ ( @-@ @ ) , p < @ ; @ ( @-@ @ ) , p < @ ; and @ ( @-@ @ ) , p < @ , respectively .\\n',\n",
       " 'RESULTS\\tFurther , there was a clinically relevant reduction in the serum levels of IL-@ , IL-@ , TNF - , and hsCRP at @ weeks in the intervention group when compared to the placebo group .\\n']"
      ]
     },
     "execution_count": 52,
     "metadata": {},
     "output_type": "execute_result"
    }
   ],
   "source": [
    "train_lines = read_doc(train_dir_path)\n",
    "train_lines[:10]"
   ]
  },
  {
   "cell_type": "code",
   "execution_count": 53,
   "metadata": {
    "id": "uDdHf6HGMxsF"
   },
   "outputs": [],
   "source": [
    "def preprocess_doc(filename):\n",
    "  \"\"\"\n",
    "  Returns a list of dictionaries for each line relating to one abstract, doing the same for all abstracts\n",
    "\n",
    "  Args:\n",
    "\n",
    "    filename: A string which is the path of the doc\n",
    "\n",
    "  Returns:\n",
    "\n",
    "    A list of dictionaries with preprocesse data from the doc\n",
    "  \"\"\"\n",
    "  input_lines = read_doc(filename)\n",
    "  abstract_lines = ''\n",
    "  abstract_samples = []\n",
    "\n",
    "  for line in input_lines:\n",
    "    if line.startswith('###'):\n",
    "      abstract_id = line\n",
    "      abstract_lines = ''\n",
    "    elif line.isspace():\n",
    "      abstract_line_split = abstract_lines.splitlines()\n",
    "      for abstract_line_number, abstract_line in enumerate(abstract_line_split):\n",
    "        line_data = {}\n",
    "        label_text_split = abstract_line.split('\\t')\n",
    "        line_data['line_number'] = abstract_line_number\n",
    "        line_data['label'] = label_text_split[0]\n",
    "        line_data['text'] = label_text_split[1].lower()\n",
    "        line_data['total_lines'] = len(abstract_line_split) - 1\n",
    "        abstract_samples.append(line_data)\n",
    "    else:\n",
    "      abstract_lines += line\n",
    "\n",
    "  return abstract_samples"
   ]
  },
  {
   "cell_type": "code",
   "execution_count": 54,
   "metadata": {
    "colab": {
     "base_uri": "https://localhost:8080/"
    },
    "id": "7ynQ9SgqFE8j",
    "outputId": "573b21fc-cda6-492a-e9dd-070c208b1a70"
   },
   "outputs": [
    {
     "data": {
      "text/plain": [
       "(180040, 30212, 30135)"
      ]
     },
     "execution_count": 54,
     "metadata": {},
     "output_type": "execute_result"
    }
   ],
   "source": [
    "train_samples = preprocess_doc(train_dir_path)\n",
    "validation_samples = preprocess_doc(validation_dir_path)\n",
    "test_samples = preprocess_doc(test_dir_path)\n",
    "len(train_samples), len(validation_samples), len(test_samples)"
   ]
  },
  {
   "cell_type": "code",
   "execution_count": 55,
   "metadata": {
    "colab": {
     "base_uri": "https://localhost:8080/"
    },
    "id": "yRUDDDxJFqxU",
    "outputId": "19f47f9a-ace1-47e0-daa4-72536579d878"
   },
   "outputs": [
    {
     "data": {
      "text/plain": [
       "[{'line_number': 0,\n",
       "  'label': 'OBJECTIVE',\n",
       "  'text': 'to investigate the efficacy of @ weeks of daily low-dose oral prednisolone in improving pain , mobility , and systemic low-grade inflammation in the short term and whether the effect would be sustained at @ weeks in older adults with moderate to severe knee osteoarthritis ( oa ) .',\n",
       "  'total_lines': 11},\n",
       " {'line_number': 1,\n",
       "  'label': 'METHODS',\n",
       "  'text': 'a total of @ patients with primary knee oa were randomized @:@ ; @ received @ mg/day of prednisolone and @ received placebo for @ weeks .',\n",
       "  'total_lines': 11},\n",
       " {'line_number': 2,\n",
       "  'label': 'METHODS',\n",
       "  'text': 'outcome measures included pain reduction and improvement in function scores and systemic inflammation markers .',\n",
       "  'total_lines': 11},\n",
       " {'line_number': 3,\n",
       "  'label': 'METHODS',\n",
       "  'text': 'pain was assessed using the visual analog pain scale ( @-@ mm ) .',\n",
       "  'total_lines': 11},\n",
       " {'line_number': 4,\n",
       "  'label': 'METHODS',\n",
       "  'text': 'secondary outcome measures included the western ontario and mcmaster universities osteoarthritis index scores , patient global assessment ( pga ) of the severity of knee oa , and @-min walk distance ( @mwd ) .',\n",
       "  'total_lines': 11},\n",
       " {'line_number': 5,\n",
       "  'label': 'METHODS',\n",
       "  'text': 'serum levels of interleukin @ ( il-@ ) , il-@ , tumor necrosis factor ( tnf ) - , and high-sensitivity c-reactive protein ( hscrp ) were measured .',\n",
       "  'total_lines': 11},\n",
       " {'line_number': 6,\n",
       "  'label': 'RESULTS',\n",
       "  'text': 'there was a clinically relevant reduction in the intervention group compared to the placebo group for knee pain , physical function , pga , and @mwd at @ weeks .',\n",
       "  'total_lines': 11},\n",
       " {'line_number': 7,\n",
       "  'label': 'RESULTS',\n",
       "  'text': 'the mean difference between treatment arms ( @ % ci ) was @ ( @-@ @ ) , p < @ ; @ ( @-@ @ ) , p < @ ; @ ( @-@ @ ) , p < @ ; and @ ( @-@ @ ) , p < @ , respectively .',\n",
       "  'total_lines': 11},\n",
       " {'line_number': 8,\n",
       "  'label': 'RESULTS',\n",
       "  'text': 'further , there was a clinically relevant reduction in the serum levels of il-@ , il-@ , tnf - , and hscrp at @ weeks in the intervention group when compared to the placebo group .',\n",
       "  'total_lines': 11},\n",
       " {'line_number': 9,\n",
       "  'label': 'RESULTS',\n",
       "  'text': 'these differences remained significant at @ weeks .',\n",
       "  'total_lines': 11}]"
      ]
     },
     "execution_count": 55,
     "metadata": {},
     "output_type": "execute_result"
    }
   ],
   "source": [
    "train_samples[:10]"
   ]
  },
  {
   "cell_type": "code",
   "execution_count": 56,
   "metadata": {
    "id": "haV4DyN_GMR2"
   },
   "outputs": [],
   "source": [
    "train_df = pd.DataFrame(train_samples)\n",
    "validation_df = pd.DataFrame(validation_samples)\n",
    "test_df = pd.DataFrame(test_samples)"
   ]
  },
  {
   "cell_type": "code",
   "execution_count": 57,
   "metadata": {
    "colab": {
     "base_uri": "https://localhost:8080/",
     "height": 476
    },
    "id": "KFxoQdyeGyQ8",
    "outputId": "456d868f-6ac9-4f38-8d24-39d0ec756426"
   },
   "outputs": [
    {
     "data": {
      "text/html": [
       "<div>\n",
       "<style scoped>\n",
       "    .dataframe tbody tr th:only-of-type {\n",
       "        vertical-align: middle;\n",
       "    }\n",
       "\n",
       "    .dataframe tbody tr th {\n",
       "        vertical-align: top;\n",
       "    }\n",
       "\n",
       "    .dataframe thead th {\n",
       "        text-align: right;\n",
       "    }\n",
       "</style>\n",
       "<table border=\"1\" class=\"dataframe\">\n",
       "  <thead>\n",
       "    <tr style=\"text-align: right;\">\n",
       "      <th></th>\n",
       "      <th>line_number</th>\n",
       "      <th>label</th>\n",
       "      <th>text</th>\n",
       "      <th>total_lines</th>\n",
       "    </tr>\n",
       "  </thead>\n",
       "  <tbody>\n",
       "    <tr>\n",
       "      <th>0</th>\n",
       "      <td>0</td>\n",
       "      <td>OBJECTIVE</td>\n",
       "      <td>to investigate the efficacy of @ weeks of dail...</td>\n",
       "      <td>11</td>\n",
       "    </tr>\n",
       "    <tr>\n",
       "      <th>1</th>\n",
       "      <td>1</td>\n",
       "      <td>METHODS</td>\n",
       "      <td>a total of @ patients with primary knee oa wer...</td>\n",
       "      <td>11</td>\n",
       "    </tr>\n",
       "    <tr>\n",
       "      <th>2</th>\n",
       "      <td>2</td>\n",
       "      <td>METHODS</td>\n",
       "      <td>outcome measures included pain reduction and i...</td>\n",
       "      <td>11</td>\n",
       "    </tr>\n",
       "    <tr>\n",
       "      <th>3</th>\n",
       "      <td>3</td>\n",
       "      <td>METHODS</td>\n",
       "      <td>pain was assessed using the visual analog pain...</td>\n",
       "      <td>11</td>\n",
       "    </tr>\n",
       "    <tr>\n",
       "      <th>4</th>\n",
       "      <td>4</td>\n",
       "      <td>METHODS</td>\n",
       "      <td>secondary outcome measures included the wester...</td>\n",
       "      <td>11</td>\n",
       "    </tr>\n",
       "    <tr>\n",
       "      <th>5</th>\n",
       "      <td>5</td>\n",
       "      <td>METHODS</td>\n",
       "      <td>serum levels of interleukin @ ( il-@ ) , il-@ ...</td>\n",
       "      <td>11</td>\n",
       "    </tr>\n",
       "    <tr>\n",
       "      <th>6</th>\n",
       "      <td>6</td>\n",
       "      <td>RESULTS</td>\n",
       "      <td>there was a clinically relevant reduction in t...</td>\n",
       "      <td>11</td>\n",
       "    </tr>\n",
       "    <tr>\n",
       "      <th>7</th>\n",
       "      <td>7</td>\n",
       "      <td>RESULTS</td>\n",
       "      <td>the mean difference between treatment arms ( @...</td>\n",
       "      <td>11</td>\n",
       "    </tr>\n",
       "    <tr>\n",
       "      <th>8</th>\n",
       "      <td>8</td>\n",
       "      <td>RESULTS</td>\n",
       "      <td>further , there was a clinically relevant redu...</td>\n",
       "      <td>11</td>\n",
       "    </tr>\n",
       "    <tr>\n",
       "      <th>9</th>\n",
       "      <td>9</td>\n",
       "      <td>RESULTS</td>\n",
       "      <td>these differences remained significant at @ we...</td>\n",
       "      <td>11</td>\n",
       "    </tr>\n",
       "  </tbody>\n",
       "</table>\n",
       "</div>"
      ],
      "text/plain": [
       "   line_number      label                                               text  \\\n",
       "0            0  OBJECTIVE  to investigate the efficacy of @ weeks of dail...   \n",
       "1            1    METHODS  a total of @ patients with primary knee oa wer...   \n",
       "2            2    METHODS  outcome measures included pain reduction and i...   \n",
       "3            3    METHODS  pain was assessed using the visual analog pain...   \n",
       "4            4    METHODS  secondary outcome measures included the wester...   \n",
       "5            5    METHODS  serum levels of interleukin @ ( il-@ ) , il-@ ...   \n",
       "6            6    RESULTS  there was a clinically relevant reduction in t...   \n",
       "7            7    RESULTS  the mean difference between treatment arms ( @...   \n",
       "8            8    RESULTS  further , there was a clinically relevant redu...   \n",
       "9            9    RESULTS  these differences remained significant at @ we...   \n",
       "\n",
       "   total_lines  \n",
       "0           11  \n",
       "1           11  \n",
       "2           11  \n",
       "3           11  \n",
       "4           11  \n",
       "5           11  \n",
       "6           11  \n",
       "7           11  \n",
       "8           11  \n",
       "9           11  "
      ]
     },
     "execution_count": 57,
     "metadata": {},
     "output_type": "execute_result"
    }
   ],
   "source": [
    "train_df.head(10)"
   ]
  },
  {
   "cell_type": "code",
   "execution_count": 58,
   "metadata": {
    "colab": {
     "base_uri": "https://localhost:8080/"
    },
    "id": "fTfFgygkG52z",
    "outputId": "b1a9ecaa-45f5-4fa0-8c82-fe3d8e1df77c"
   },
   "outputs": [
    {
     "data": {
      "text/plain": [
       "METHODS        59353\n",
       "RESULTS        57953\n",
       "CONCLUSIONS    27168\n",
       "BACKGROUND     21727\n",
       "OBJECTIVE      13839\n",
       "Name: label, dtype: int64"
      ]
     },
     "execution_count": 58,
     "metadata": {},
     "output_type": "execute_result"
    }
   ],
   "source": [
    "train_df['label'].value_counts()"
   ]
  },
  {
   "cell_type": "code",
   "execution_count": 59,
   "metadata": {
    "colab": {
     "base_uri": "https://localhost:8080/",
     "height": 448
    },
    "id": "3-zb9u7fHsyK",
    "outputId": "ed1be524-9564-497e-f740-c06aa27d2b79"
   },
   "outputs": [
    {
     "data": {
      "text/plain": [
       "<Axes: ylabel='Frequency'>"
      ]
     },
     "execution_count": 59,
     "metadata": {},
     "output_type": "execute_result"
    },
    {
     "data": {
      "image/png": "[encoded data removed]",
      "text/plain": [
       "<Figure size 640x480 with 1 Axes>"
      ]
     },
     "metadata": {},
     "output_type": "display_data"
    }
   ],
   "source": [
    "train_df['total_lines'].plot.hist()"
   ]
  },
  {
   "cell_type": "code",
   "execution_count": 60,
   "metadata": {
    "id": "iVxmAP9tHyqc"
   },
   "outputs": [],
   "source": [
    "train_sentences = train_df['text'].to_list()\n",
    "validation_sentences = validation_df['text'].to_list()\n",
    "test_sentences = test_df['text'].to_list()"
   ]
  },
  {
   "cell_type": "code",
   "execution_count": 61,
   "metadata": {
    "colab": {
     "base_uri": "https://localhost:8080/"
    },
    "id": "i7X_wekEIWVv",
    "outputId": "a17692e5-12d2-4bcf-9559-d9f50752b5a3"
   },
   "outputs": [
    {
     "data": {
      "text/plain": [
       "['to investigate the efficacy of @ weeks of daily low-dose oral prednisolone in improving pain , mobility , and systemic low-grade inflammation in the short term and whether the effect would be sustained at @ weeks in older adults with moderate to severe knee osteoarthritis ( oa ) .',\n",
       " 'a total of @ patients with primary knee oa were randomized @:@ ; @ received @ mg/day of prednisolone and @ received placebo for @ weeks .',\n",
       " 'outcome measures included pain reduction and improvement in function scores and systemic inflammation markers .',\n",
       " 'pain was assessed using the visual analog pain scale ( @-@ mm ) .',\n",
       " 'secondary outcome measures included the western ontario and mcmaster universities osteoarthritis index scores , patient global assessment ( pga ) of the severity of knee oa , and @-min walk distance ( @mwd ) .',\n",
       " 'serum levels of interleukin @ ( il-@ ) , il-@ , tumor necrosis factor ( tnf ) - , and high-sensitivity c-reactive protein ( hscrp ) were measured .',\n",
       " 'there was a clinically relevant reduction in the intervention group compared to the placebo group for knee pain , physical function , pga , and @mwd at @ weeks .',\n",
       " 'the mean difference between treatment arms ( @ % ci ) was @ ( @-@ @ ) , p < @ ; @ ( @-@ @ ) , p < @ ; @ ( @-@ @ ) , p < @ ; and @ ( @-@ @ ) , p < @ , respectively .',\n",
       " 'further , there was a clinically relevant reduction in the serum levels of il-@ , il-@ , tnf - , and hscrp at @ weeks in the intervention group when compared to the placebo group .',\n",
       " 'these differences remained significant at @ weeks .']"
      ]
     },
     "execution_count": 61,
     "metadata": {},
     "output_type": "execute_result"
    }
   ],
   "source": [
    "train_sentences[:10]"
   ]
  },
  {
   "cell_type": "code",
   "execution_count": 62,
   "metadata": {
    "id": "sDaHoX45IX_p"
   },
   "outputs": [],
   "source": [
    "one_hot_encoder = OneHotEncoder(sparse_output = False)\n",
    "train_labels_one_hot_encoded = one_hot_encoder.fit_transform(train_df['label'].to_numpy().reshape(-1,1))\n",
    "validation_labels_one_hot_encoded = one_hot_encoder.transform(validation_df['label'].to_numpy().reshape(-1,1))\n",
    "test_labels_one_hot_encoded = one_hot_encoder.transform(test_df['label'].to_numpy().reshape(-1,1))"
   ]
  },
  {
   "cell_type": "code",
   "execution_count": 63,
   "metadata": {
    "id": "4qc2P17xK0Dy"
   },
   "outputs": [],
   "source": [
    "label_encoder = LabelEncoder()\n",
    "train_labels_label_encoded = label_encoder.fit_transform(train_df['label'].to_numpy())\n",
    "validation_labels_label_encoded = label_encoder.transform(validation_df['label'].to_numpy())\n",
    "test_labels_label_encoded = label_encoder.transform(test_df['label'].to_numpy())"
   ]
  },
  {
   "cell_type": "code",
   "execution_count": 64,
   "metadata": {
    "colab": {
     "base_uri": "https://localhost:8080/"
    },
    "id": "D2m1LmTlLYvI",
    "outputId": "9a7ba800-e744-4369-c324-2d28f5a3f8f3"
   },
   "outputs": [
    {
     "data": {
      "text/plain": [
       "(5,\n",
       " array(['BACKGROUND', 'CONCLUSIONS', 'METHODS', 'OBJECTIVE', 'RESULTS'],\n",
       "       dtype=object))"
      ]
     },
     "execution_count": 64,
     "metadata": {},
     "output_type": "execute_result"
    }
   ],
   "source": [
    "total_classes = len(label_encoder.classes_)\n",
    "class_names = label_encoder.classes_\n",
    "total_classes, class_names"
   ]
  },
  {
   "cell_type": "code",
   "execution_count": 65,
   "metadata": {
    "colab": {
     "base_uri": "https://localhost:8080/",
     "height": 125
    },
    "id": "KmOlA6SrLu26",
    "outputId": "743bbcc5-a30d-4c62-966e-7056870f6708"
   },
   "outputs": [
    {
     "data": {
      "text/html": [
       "<style>#sk-container-id-2 {\n",
       "  /* Definition of color scheme common for light and dark mode */\n",
       "  --sklearn-color-text: black;\n",
       "  --sklearn-color-line: gray;\n",
       "  /* Definition of color scheme for unfitted estimators */\n",
       "  --sklearn-color-unfitted-level-0: #fff5e6;\n",
       "  --sklearn-color-unfitted-level-1: #f6e4d2;\n",
       "  --sklearn-color-unfitted-level-2: #ffe0b3;\n",
       "  --sklearn-color-unfitted-level-3: chocolate;\n",
       "  /* Definition of color scheme for fitted estimators */\n",
       "  --sklearn-color-fitted-level-0: #f0f8ff;\n",
       "  --sklearn-color-fitted-level-1: #d4ebff;\n",
       "  --sklearn-color-fitted-level-2: #b3dbfd;\n",
       "  --sklearn-color-fitted-level-3: cornflowerblue;\n",
       "\n",
       "  /* Specific color for light theme */\n",
       "  --sklearn-color-text-on-default-background: var(--sg-text-color, var(--theme-code-foreground, var(--jp-content-font-color1, black)));\n",
       "  --sklearn-color-background: var(--sg-background-color, var(--theme-background, var(--jp-layout-color0, white)));\n",
       "  --sklearn-color-border-box: var(--sg-text-color, var(--theme-code-foreground, var(--jp-content-font-color1, black)));\n",
       "  --sklearn-color-icon: #696969;\n",
       "\n",
       "  @media (prefers-color-scheme: dark) {\n",
       "    /* Redefinition of color scheme for dark theme */\n",
       "    --sklearn-color-text-on-default-background: var(--sg-text-color, var(--theme-code-foreground, var(--jp-content-font-color1, white)));\n",
       "    --sklearn-color-background: var(--sg-background-color, var(--theme-background, var(--jp-layout-color0, #111)));\n",
       "    --sklearn-color-border-box: var(--sg-text-color, var(--theme-code-foreground, var(--jp-content-font-color1, white)));\n",
       "    --sklearn-color-icon: #878787;\n",
       "  }\n",
       "}\n",
       "\n",
       "#sk-container-id-2 {\n",
       "  color: var(--sklearn-color-text);\n",
       "}\n",
       "\n",
       "#sk-container-id-2 pre {\n",
       "  padding: 0;\n",
       "}\n",
       "\n",
       "#sk-container-id-2 input.sk-hidden--visually {\n",
       "  border: 0;\n",
       "  clip: rect(1px 1px 1px 1px);\n",
       "  clip: rect(1px, 1px, 1px, 1px);\n",
       "  height: 1px;\n",
       "  margin: -1px;\n",
       "  overflow: hidden;\n",
       "  padding: 0;\n",
       "  position: absolute;\n",
       "  width: 1px;\n",
       "}\n",
       "\n",
       "#sk-container-id-2 div.sk-dashed-wrapped {\n",
       "  border: 1px dashed var(--sklearn-color-line);\n",
       "  margin: 0 0.4em 0.5em 0.4em;\n",
       "  box-sizing: border-box;\n",
       "  padding-bottom: 0.4em;\n",
       "  background-color: var(--sklearn-color-background);\n",
       "}\n",
       "\n",
       "#sk-container-id-2 div.sk-container {\n",
       "  /* jupyter's `normalize.less` sets `[hidden] { display: none; }`\n",
       "     but bootstrap.min.css set `[hidden] { display: none !important; }`\n",
       "     so we also need the `!important` here to be able to override the\n",
       "     default hidden behavior on the sphinx rendered scikit-learn.org.\n",
       "     See: https://github.com/scikit-learn/scikit-learn/issues/21755 */\n",
       "  display: inline-block !important;\n",
       "  position: relative;\n",
       "}\n",
       "\n",
       "#sk-container-id-2 div.sk-text-repr-fallback {\n",
       "  display: none;\n",
       "}\n",
       "\n",
       "div.sk-parallel-item,\n",
       "div.sk-serial,\n",
       "div.sk-item {\n",
       "  /* draw centered vertical line to link estimators */\n",
       "  background-image: linear-gradient(var(--sklearn-color-text-on-default-background), var(--sklearn-color-text-on-default-background));\n",
       "  background-size: 2px 100%;\n",
       "  background-repeat: no-repeat;\n",
       "  background-position: center center;\n",
       "}\n",
       "\n",
       "/* Parallel-specific style estimator block */\n",
       "\n",
       "#sk-container-id-2 div.sk-parallel-item::after {\n",
       "  content: \"\";\n",
       "  width: 100%;\n",
       "  border-bottom: 2px solid var(--sklearn-color-text-on-default-background);\n",
       "  flex-grow: 1;\n",
       "}\n",
       "\n",
       "#sk-container-id-2 div.sk-parallel {\n",
       "  display: flex;\n",
       "  align-items: stretch;\n",
       "  justify-content: center;\n",
       "  background-color: var(--sklearn-color-background);\n",
       "  position: relative;\n",
       "}\n",
       "\n",
       "#sk-container-id-2 div.sk-parallel-item {\n",
       "  display: flex;\n",
       "  flex-direction: column;\n",
       "}\n",
       "\n",
       "#sk-container-id-2 div.sk-parallel-item:first-child::after {\n",
       "  align-self: flex-end;\n",
       "  width: 50%;\n",
       "}\n",
       "\n",
       "#sk-container-id-2 div.sk-parallel-item:last-child::after {\n",
       "  align-self: flex-start;\n",
       "  width: 50%;\n",
       "}\n",
       "\n",
       "#sk-container-id-2 div.sk-parallel-item:only-child::after {\n",
       "  width: 0;\n",
       "}\n",
       "\n",
       "/* Serial-specific style estimator block */\n",
       "\n",
       "#sk-container-id-2 div.sk-serial {\n",
       "  display: flex;\n",
       "  flex-direction: column;\n",
       "  align-items: center;\n",
       "  background-color: var(--sklearn-color-background);\n",
       "  padding-right: 1em;\n",
       "  padding-left: 1em;\n",
       "}\n",
       "\n",
       "\n",
       "/* Toggleable style: style used for estimator/Pipeline/ColumnTransformer box that is\n",
       "clickable and can be expanded/collapsed.\n",
       "- Pipeline and ColumnTransformer use this feature and define the default style\n",
       "- Estimators will overwrite some part of the style using the `sk-estimator` class\n",
       "*/\n",
       "\n",
       "/* Pipeline and ColumnTransformer style (default) */\n",
       "\n",
       "#sk-container-id-2 div.sk-toggleable {\n",
       "  /* Default theme specific background. It is overwritten whether we have a\n",
       "  specific estimator or a Pipeline/ColumnTransformer */\n",
       "  background-color: var(--sklearn-color-background);\n",
       "}\n",
       "\n",
       "/* Toggleable label */\n",
       "#sk-container-id-2 label.sk-toggleable__label {\n",
       "  cursor: pointer;\n",
       "  display: block;\n",
       "  width: 100%;\n",
       "  margin-bottom: 0;\n",
       "  padding: 0.5em;\n",
       "  box-sizing: border-box;\n",
       "  text-align: center;\n",
       "}\n",
       "\n",
       "#sk-container-id-2 label.sk-toggleable__label-arrow:before {\n",
       "  /* Arrow on the left of the label */\n",
       "  content: \"▸\";\n",
       "  float: left;\n",
       "  margin-right: 0.25em;\n",
       "  color: var(--sklearn-color-icon);\n",
       "}\n",
       "\n",
       "#sk-container-id-2 label.sk-toggleable__label-arrow:hover:before {\n",
       "  color: var(--sklearn-color-text);\n",
       "}\n",
       "\n",
       "/* Toggleable content - dropdown */\n",
       "\n",
       "#sk-container-id-2 div.sk-toggleable__content {\n",
       "  max-height: 0;\n",
       "  max-width: 0;\n",
       "  overflow: hidden;\n",
       "  text-align: left;\n",
       "  /* unfitted */\n",
       "  background-color: var(--sklearn-color-unfitted-level-0);\n",
       "}\n",
       "\n",
       "#sk-container-id-2 div.sk-toggleable__content.fitted {\n",
       "  /* fitted */\n",
       "  background-color: var(--sklearn-color-fitted-level-0);\n",
       "}\n",
       "\n",
       "#sk-container-id-2 div.sk-toggleable__content pre {\n",
       "  margin: 0.2em;\n",
       "  border-radius: 0.25em;\n",
       "  color: var(--sklearn-color-text);\n",
       "  /* unfitted */\n",
       "  background-color: var(--sklearn-color-unfitted-level-0);\n",
       "}\n",
       "\n",
       "#sk-container-id-2 div.sk-toggleable__content.fitted pre {\n",
       "  /* unfitted */\n",
       "  background-color: var(--sklearn-color-fitted-level-0);\n",
       "}\n",
       "\n",
       "#sk-container-id-2 input.sk-toggleable__control:checked~div.sk-toggleable__content {\n",
       "  /* Expand drop-down */\n",
       "  max-height: 200px;\n",
       "  max-width: 100%;\n",
       "  overflow: auto;\n",
       "}\n",
       "\n",
       "#sk-container-id-2 input.sk-toggleable__control:checked~label.sk-toggleable__label-arrow:before {\n",
       "  content: \"▾\";\n",
       "}\n",
       "\n",
       "/* Pipeline/ColumnTransformer-specific style */\n",
       "\n",
       "#sk-container-id-2 div.sk-label input.sk-toggleable__control:checked~label.sk-toggleable__label {\n",
       "  color: var(--sklearn-color-text);\n",
       "  background-color: var(--sklearn-color-unfitted-level-2);\n",
       "}\n",
       "\n",
       "#sk-container-id-2 div.sk-label.fitted input.sk-toggleable__control:checked~label.sk-toggleable__label {\n",
       "  background-color: var(--sklearn-color-fitted-level-2);\n",
       "}\n",
       "\n",
       "/* Estimator-specific style */\n",
       "\n",
       "/* Colorize estimator box */\n",
       "#sk-container-id-2 div.sk-estimator input.sk-toggleable__control:checked~label.sk-toggleable__label {\n",
       "  /* unfitted */\n",
       "  background-color: var(--sklearn-color-unfitted-level-2);\n",
       "}\n",
       "\n",
       "#sk-container-id-2 div.sk-estimator.fitted input.sk-toggleable__control:checked~label.sk-toggleable__label {\n",
       "  /* fitted */\n",
       "  background-color: var(--sklearn-color-fitted-level-2);\n",
       "}\n",
       "\n",
       "#sk-container-id-2 div.sk-label label.sk-toggleable__label,\n",
       "#sk-container-id-2 div.sk-label label {\n",
       "  /* The background is the default theme color */\n",
       "  color: var(--sklearn-color-text-on-default-background);\n",
       "}\n",
       "\n",
       "/* On hover, darken the color of the background */\n",
       "#sk-container-id-2 div.sk-label:hover label.sk-toggleable__label {\n",
       "  color: var(--sklearn-color-text);\n",
       "  background-color: var(--sklearn-color-unfitted-level-2);\n",
       "}\n",
       "\n",
       "/* Label box, darken color on hover, fitted */\n",
       "#sk-container-id-2 div.sk-label.fitted:hover label.sk-toggleable__label.fitted {\n",
       "  color: var(--sklearn-color-text);\n",
       "  background-color: var(--sklearn-color-fitted-level-2);\n",
       "}\n",
       "\n",
       "/* Estimator label */\n",
       "\n",
       "#sk-container-id-2 div.sk-label label {\n",
       "  font-family: monospace;\n",
       "  font-weight: bold;\n",
       "  display: inline-block;\n",
       "  line-height: 1.2em;\n",
       "}\n",
       "\n",
       "#sk-container-id-2 div.sk-label-container {\n",
       "  text-align: center;\n",
       "}\n",
       "\n",
       "/* Estimator-specific */\n",
       "#sk-container-id-2 div.sk-estimator {\n",
       "  font-family: monospace;\n",
       "  border: 1px dotted var(--sklearn-color-border-box);\n",
       "  border-radius: 0.25em;\n",
       "  box-sizing: border-box;\n",
       "  margin-bottom: 0.5em;\n",
       "  /* unfitted */\n",
       "  background-color: var(--sklearn-color-unfitted-level-0);\n",
       "}\n",
       "\n",
       "#sk-container-id-2 div.sk-estimator.fitted {\n",
       "  /* fitted */\n",
       "  background-color: var(--sklearn-color-fitted-level-0);\n",
       "}\n",
       "\n",
       "/* on hover */\n",
       "#sk-container-id-2 div.sk-estimator:hover {\n",
       "  /* unfitted */\n",
       "  background-color: var(--sklearn-color-unfitted-level-2);\n",
       "}\n",
       "\n",
       "#sk-container-id-2 div.sk-estimator.fitted:hover {\n",
       "  /* fitted */\n",
       "  background-color: var(--sklearn-color-fitted-level-2);\n",
       "}\n",
       "\n",
       "/* Specification for estimator info (e.g. \"i\" and \"?\") */\n",
       "\n",
       "/* Common style for \"i\" and \"?\" */\n",
       "\n",
       ".sk-estimator-doc-link,\n",
       "a:link.sk-estimator-doc-link,\n",
       "a:visited.sk-estimator-doc-link {\n",
       "  float: right;\n",
       "  font-size: smaller;\n",
       "  line-height: 1em;\n",
       "  font-family: monospace;\n",
       "  background-color: var(--sklearn-color-background);\n",
       "  border-radius: 1em;\n",
       "  height: 1em;\n",
       "  width: 1em;\n",
       "  text-decoration: none !important;\n",
       "  margin-left: 1ex;\n",
       "  /* unfitted */\n",
       "  border: var(--sklearn-color-unfitted-level-1) 1pt solid;\n",
       "  color: var(--sklearn-color-unfitted-level-1);\n",
       "}\n",
       "\n",
       ".sk-estimator-doc-link.fitted,\n",
       "a:link.sk-estimator-doc-link.fitted,\n",
       "a:visited.sk-estimator-doc-link.fitted {\n",
       "  /* fitted */\n",
       "  border: var(--sklearn-color-fitted-level-1) 1pt solid;\n",
       "  color: var(--sklearn-color-fitted-level-1);\n",
       "}\n",
       "\n",
       "/* On hover */\n",
       "div.sk-estimator:hover .sk-estimator-doc-link:hover,\n",
       ".sk-estimator-doc-link:hover,\n",
       "div.sk-label-container:hover .sk-estimator-doc-link:hover,\n",
       ".sk-estimator-doc-link:hover {\n",
       "  /* unfitted */\n",
       "  background-color: var(--sklearn-color-unfitted-level-3);\n",
       "  color: var(--sklearn-color-background);\n",
       "  text-decoration: none;\n",
       "}\n",
       "\n",
       "div.sk-estimator.fitted:hover .sk-estimator-doc-link.fitted:hover,\n",
       ".sk-estimator-doc-link.fitted:hover,\n",
       "div.sk-label-container:hover .sk-estimator-doc-link.fitted:hover,\n",
       ".sk-estimator-doc-link.fitted:hover {\n",
       "  /* fitted */\n",
       "  background-color: var(--sklearn-color-fitted-level-3);\n",
       "  color: var(--sklearn-color-background);\n",
       "  text-decoration: none;\n",
       "}\n",
       "\n",
       "/* Span, style for the box shown on hovering the info icon */\n",
       ".sk-estimator-doc-link span {\n",
       "  display: none;\n",
       "  z-index: 9999;\n",
       "  position: relative;\n",
       "  font-weight: normal;\n",
       "  right: .2ex;\n",
       "  padding: .5ex;\n",
       "  margin: .5ex;\n",
       "  width: min-content;\n",
       "  min-width: 20ex;\n",
       "  max-width: 50ex;\n",
       "  color: var(--sklearn-color-text);\n",
       "  box-shadow: 2pt 2pt 4pt #999;\n",
       "  /* unfitted */\n",
       "  background: var(--sklearn-color-unfitted-level-0);\n",
       "  border: .5pt solid var(--sklearn-color-unfitted-level-3);\n",
       "}\n",
       "\n",
       ".sk-estimator-doc-link.fitted span {\n",
       "  /* fitted */\n",
       "  background: var(--sklearn-color-fitted-level-0);\n",
       "  border: var(--sklearn-color-fitted-level-3);\n",
       "}\n",
       "\n",
       ".sk-estimator-doc-link:hover span {\n",
       "  display: block;\n",
       "}\n",
       "\n",
       "/* \"?\"-specific style due to the `<a>` HTML tag */\n",
       "\n",
       "#sk-container-id-2 a.estimator_doc_link {\n",
       "  float: right;\n",
       "  font-size: 1rem;\n",
       "  line-height: 1em;\n",
       "  font-family: monospace;\n",
       "  background-color: var(--sklearn-color-background);\n",
       "  border-radius: 1rem;\n",
       "  height: 1rem;\n",
       "  width: 1rem;\n",
       "  text-decoration: none;\n",
       "  /* unfitted */\n",
       "  color: var(--sklearn-color-unfitted-level-1);\n",
       "  border: var(--sklearn-color-unfitted-level-1) 1pt solid;\n",
       "}\n",
       "\n",
       "#sk-container-id-2 a.estimator_doc_link.fitted {\n",
       "  /* fitted */\n",
       "  border: var(--sklearn-color-fitted-level-1) 1pt solid;\n",
       "  color: var(--sklearn-color-fitted-level-1);\n",
       "}\n",
       "\n",
       "/* On hover */\n",
       "#sk-container-id-2 a.estimator_doc_link:hover {\n",
       "  /* unfitted */\n",
       "  background-color: var(--sklearn-color-unfitted-level-3);\n",
       "  color: var(--sklearn-color-background);\n",
       "  text-decoration: none;\n",
       "}\n",
       "\n",
       "#sk-container-id-2 a.estimator_doc_link.fitted:hover {\n",
       "  /* fitted */\n",
       "  background-color: var(--sklearn-color-fitted-level-3);\n",
       "}\n",
       "</style><div id=\"sk-container-id-2\" class=\"sk-top-container\"><div class=\"sk-text-repr-fallback\"><pre>Pipeline(steps=[(&#x27;tf-idf&#x27;, TfidfVectorizer()), (&#x27;clf&#x27;, MultinomialNB())])</pre><b>In a Jupyter environment, please rerun this cell to show the HTML representation or trust the notebook. <br />On GitHub, the HTML representation is unable to render, please try loading this page with nbviewer.org.</b></div><div class=\"sk-container\" hidden><div class=\"sk-item sk-dashed-wrapped\"><div class=\"sk-label-container\"><div class=\"sk-label fitted sk-toggleable\"><input class=\"sk-toggleable__control sk-hidden--visually\" id=\"sk-estimator-id-4\" type=\"checkbox\" ><label for=\"sk-estimator-id-4\" class=\"sk-toggleable__label fitted sk-toggleable__label-arrow fitted\">&nbsp;&nbsp;Pipeline<a class=\"sk-estimator-doc-link fitted\" rel=\"noreferrer\" target=\"_blank\" href=\"https://scikit-learn.org/1.4/modules/generated/sklearn.pipeline.Pipeline.html\">?<span>Documentation for Pipeline</span></a><span class=\"sk-estimator-doc-link fitted\">i<span>Fitted</span></span></label><div class=\"sk-toggleable__content fitted\"><pre>Pipeline(steps=[(&#x27;tf-idf&#x27;, TfidfVectorizer()), (&#x27;clf&#x27;, MultinomialNB())])</pre></div> </div></div><div class=\"sk-serial\"><div class=\"sk-item\"><div class=\"sk-estimator fitted sk-toggleable\"><input class=\"sk-toggleable__control sk-hidden--visually\" id=\"sk-estimator-id-5\" type=\"checkbox\" ><label for=\"sk-estimator-id-5\" class=\"sk-toggleable__label fitted sk-toggleable__label-arrow fitted\">&nbsp;TfidfVectorizer<a class=\"sk-estimator-doc-link fitted\" rel=\"noreferrer\" target=\"_blank\" href=\"https://scikit-learn.org/1.4/modules/generated/sklearn.feature_extraction.text.TfidfVectorizer.html\">?<span>Documentation for TfidfVectorizer</span></a></label><div class=\"sk-toggleable__content fitted\"><pre>TfidfVectorizer()</pre></div> </div></div><div class=\"sk-item\"><div class=\"sk-estimator fitted sk-toggleable\"><input class=\"sk-toggleable__control sk-hidden--visually\" id=\"sk-estimator-id-6\" type=\"checkbox\" ><label for=\"sk-estimator-id-6\" class=\"sk-toggleable__label fitted sk-toggleable__label-arrow fitted\">&nbsp;MultinomialNB<a class=\"sk-estimator-doc-link fitted\" rel=\"noreferrer\" target=\"_blank\" href=\"https://scikit-learn.org/1.4/modules/generated/sklearn.naive_bayes.MultinomialNB.html\">?<span>Documentation for MultinomialNB</span></a></label><div class=\"sk-toggleable__content fitted\"><pre>MultinomialNB()</pre></div> </div></div></div></div></div></div>"
      ],
      "text/plain": [
       "Pipeline(steps=[('tf-idf', TfidfVectorizer()), ('clf', MultinomialNB())])"
      ]
     },
     "execution_count": 65,
     "metadata": {},
     "output_type": "execute_result"
    }
   ],
   "source": [
    "baseline_model = Pipeline([\n",
    "    ('tf-idf', TfidfVectorizer()),\n",
    "    ('clf', MultinomialNB())\n",
    "])\n",
    "\n",
    "baseline_model.fit(X = train_sentences,\n",
    "                   y = train_labels_label_encoded)"
   ]
  },
  {
   "cell_type": "code",
   "execution_count": 66,
   "metadata": {
    "colab": {
     "base_uri": "https://localhost:8080/"
    },
    "id": "ak2g6DXaNPBT",
    "outputId": "89588924-7b13-4bec-e0a3-1bd879f11128"
   },
   "outputs": [
    {
     "data": {
      "text/plain": [
       "0.7218323844829869"
      ]
     },
     "execution_count": 66,
     "metadata": {},
     "output_type": "execute_result"
    }
   ],
   "source": [
    "baseline_model.score(X = validation_sentences,\n",
    "                     y = validation_labels_label_encoded)"
   ]
  },
  {
   "cell_type": "code",
   "execution_count": 67,
   "metadata": {
    "colab": {
     "base_uri": "https://localhost:8080/"
    },
    "id": "VoQ-ahRONYZe",
    "outputId": "4633d413-4ed6-45ed-9d99-7a8d7a4c2759"
   },
   "outputs": [
    {
     "data": {
      "text/plain": [
       "{'accuracy': 72.1832384482987,\n",
       " 'precision': 0.7186466952323352,\n",
       " 'recall': 0.7218323844829869,\n",
       " 'f1': 0.6989250353450294}"
      ]
     },
     "execution_count": 67,
     "metadata": {},
     "output_type": "execute_result"
    }
   ],
   "source": [
    "baseline_preds = baseline_model.predict(validation_sentences)\n",
    "baseline_results = calculate_results(y_true = validation_labels_label_encoded,\n",
    "                                     y_pred = baseline_preds)\n",
    "baseline_results"
   ]
  },
  {
   "cell_type": "code",
   "execution_count": 68,
   "metadata": {
    "colab": {
     "base_uri": "https://localhost:8080/"
    },
    "id": "RpFTfoacO5mZ",
    "outputId": "27f2d257-4600-4123-beef-dd6d608a8419"
   },
   "outputs": [
    {
     "data": {
      "text/plain": [
       "26.338269273494777"
      ]
     },
     "execution_count": 68,
     "metadata": {},
     "output_type": "execute_result"
    }
   ],
   "source": [
    "sentence_lengths = [len(sentence.split()) for sentence in train_sentences]\n",
    "average_sentence_length = np.mean(sentence_lengths)\n",
    "average_sentence_length"
   ]
  },
  {
   "cell_type": "code",
   "execution_count": 69,
   "metadata": {
    "colab": {
     "base_uri": "https://localhost:8080/",
     "height": 569
    },
    "id": "xpZNVva3Pdt-",
    "outputId": "a85d44c0-d22f-45f5-dfbd-a1da0887d6e3"
   },
   "outputs": [
    {
     "data": {
      "text/plain": [
       "(array([4.2075e+04, 8.3771e+04, 3.6877e+04, 1.0945e+04, 3.9310e+03,\n",
       "        1.4450e+03, 5.6000e+02, 2.2600e+02, 1.0100e+02, 4.5000e+01,\n",
       "        2.0000e+01, 1.2000e+01, 9.0000e+00, 1.0000e+01, 6.0000e+00,\n",
       "        2.0000e+00, 3.0000e+00, 0.0000e+00, 1.0000e+00, 1.0000e+00]),\n",
       " array([  1.  ,  15.75,  30.5 ,  45.25,  60.  ,  74.75,  89.5 , 104.25,\n",
       "        119.  , 133.75, 148.5 , 163.25, 178.  , 192.75, 207.5 , 222.25,\n",
       "        237.  , 251.75, 266.5 , 281.25, 296.  ]),\n",
       " <BarContainer object of 20 artists>)"
      ]
     },
     "execution_count": 69,
     "metadata": {},
     "output_type": "execute_result"
    },
    {
     "data": {
      "image/png": "[encoded data removed]",
      "text/plain": [
       "<Figure size 640x480 with 1 Axes>"
      ]
     },
     "metadata": {},
     "output_type": "display_data"
    }
   ],
   "source": [
    "plt.hist(sentence_lengths, bins = 20)"
   ]
  },
  {
   "cell_type": "code",
   "execution_count": 70,
   "metadata": {
    "colab": {
     "base_uri": "https://localhost:8080/"
    },
    "id": "-4M3E5eWPxku",
    "outputId": "cb1da370-32fc-4a86-f8c8-94f3fee8629b"
   },
   "outputs": [
    {
     "data": {
      "text/plain": [
       "55"
      ]
     },
     "execution_count": 70,
     "metadata": {},
     "output_type": "execute_result"
    }
   ],
   "source": [
    "output_sentence_length = int(np.percentile(sentence_lengths, 95))\n",
    "output_sentence_length"
   ]
  },
  {
   "cell_type": "code",
   "execution_count": 71,
   "metadata": {
    "id": "MvFQzvp6QXHb"
   },
   "outputs": [],
   "source": [
    "max_tokens = 68000"
   ]
  },
  {
   "cell_type": "code",
   "execution_count": 72,
   "metadata": {
    "id": "Wl511YJeNvuk"
   },
   "outputs": [],
   "source": [
    "token_vectorizer = tf.keras.layers.TextVectorization(max_tokens = max_tokens,\n",
    "                                                                               output_sequence_length = output_sentence_length)"
   ]
  },
  {
   "cell_type": "code",
   "execution_count": 73,
   "metadata": {
    "id": "fjuXQxGdawly"
   },
   "outputs": [],
   "source": [
    "token_vectorizer.adapt(train_sentences)"
   ]
  },
  {
   "cell_type": "code",
   "execution_count": 74,
   "metadata": {
    "colab": {
     "base_uri": "https://localhost:8080/"
    },
    "id": "k7qlLJKra9CU",
    "outputId": "563146e2-0eaa-4885-dcd3-ed9882323b49"
   },
   "outputs": [
    {
     "name": "stdout",
     "output_type": "stream",
     "text": [
      "Text:\n",
      "patients with kras exon @ wild-type resectable or suboptimally resectable colorectal liver metastases were randomised in a @:@ ratio to receive chemotherapy with or without cetuximab before and after liver resection .\n",
      "\n",
      "Length of sentence: 32\n",
      "\n",
      "Vectorized text: [[   12     7  2969  5507  3888  7300    16 13658  7300  1264   604  1792\n",
      "      9   210     5     8   166     6   175   415     7    16   159  2028\n",
      "    129     3    21   604   814     0     0     0     0     0     0     0\n",
      "      0     0     0     0     0     0     0     0     0     0     0     0\n",
      "      0     0     0     0     0     0     0]]\n"
     ]
    }
   ],
   "source": [
    "sample_sentence = random.choice(train_sentences)\n",
    "print(f'Text:\\n{sample_sentence}')\n",
    "print(f'\\nLength of sentence: {len(sample_sentence.split())}')\n",
    "print(f'\\nVectorized text: {token_vectorizer([sample_sentence])}')"
   ]
  },
  {
   "cell_type": "code",
   "execution_count": 75,
   "metadata": {
    "colab": {
     "base_uri": "https://localhost:8080/"
    },
    "id": "S9TVP3nhb5Jb",
    "outputId": "94c94160-ef24-41e9-f297-25fb96921140"
   },
   "outputs": [
    {
     "name": "stdout",
     "output_type": "stream",
     "text": [
      "Number of words in token_vocab: 64841\n",
      "Most common words in token_vocab: ['', '[UNK]', 'the', 'and', 'of', 'in', 'to', 'with', 'a', 'were']\n",
      "Least common words in token_vocab: ['aarm', 'aaqol', 'aaq', 'aanhui', 'aana', 'aainduced', 'aaigroup', 'aachener', 'aachen', 'aaacp']\n"
     ]
    }
   ],
   "source": [
    "token_vocab = token_vectorizer.get_vocabulary()\n",
    "print(f'Number of words in token_vocab: {len(token_vocab)}')\n",
    "print(f'Most common words in token_vocab: {(token_vocab[:10])}')\n",
    "print(f'Least common words in token_vocab: {(token_vocab[-10:])}')"
   ]
  },
  {
   "cell_type": "code",
   "execution_count": 76,
   "metadata": {
    "colab": {
     "base_uri": "https://localhost:8080/"
    },
    "id": "UHwZmB0bcXCR",
    "outputId": "801fc01a-a955-4bb6-9caf-922ea4ecab2f"
   },
   "outputs": [
    {
     "data": {
      "text/plain": [
       "{'name': 'text_vectorization_1',\n",
       " 'trainable': True,\n",
       " 'dtype': 'float32',\n",
       " 'max_tokens': 68000,\n",
       " 'standardize': 'lower_and_strip_punctuation',\n",
       " 'split': 'whitespace',\n",
       " 'ngrams': None,\n",
       " 'output_mode': 'int',\n",
       " 'output_sequence_length': 55,\n",
       " 'pad_to_max_tokens': False,\n",
       " 'sparse': False,\n",
       " 'ragged': False,\n",
       " 'vocabulary': None,\n",
       " 'idf_weights': None,\n",
       " 'encoding': 'utf-8',\n",
       " 'vocabulary_size': 64841}"
      ]
     },
     "execution_count": 76,
     "metadata": {},
     "output_type": "execute_result"
    }
   ],
   "source": [
    "token_vectorizer.get_config()"
   ]
  },
  {
   "cell_type": "code",
   "execution_count": 77,
   "metadata": {
    "id": "S8SDxSxLcaXw"
   },
   "outputs": [],
   "source": [
    "token_embedder = tf.keras.layers.Embedding(input_dim = len(token_vocab),\n",
    "                                          output_dim = 128,\n",
    "                                          mask_zero = True,\n",
    "                                          name = 'token_embedding_layer')"
   ]
  },
  {
   "cell_type": "code",
   "execution_count": 78,
   "metadata": {
    "colab": {
     "base_uri": "https://localhost:8080/"
    },
    "id": "LSRKcr8lgeVT",
    "outputId": "6c35711f-9ae3-4fd8-9e41-72fd6ea5a660"
   },
   "outputs": [
    {
     "name": "stdout",
     "output_type": "stream",
     "text": [
      "Sentence:\n",
      " patients with kras exon @ wild-type resectable or suboptimally resectable colorectal liver metastases were randomised in a @:@ ratio to receive chemotherapy with or without cetuximab before and after liver resection .\n",
      "\n",
      "Vectorized sentence:\n",
      "[[   12     7  2969  5507  3888  7300    16 13658  7300  1264   604  1792\n",
      "      9   210     5     8   166     6   175   415     7    16   159  2028\n",
      "    129     3    21   604   814     0     0     0     0     0     0     0\n",
      "      0     0     0     0     0     0     0     0     0     0     0     0\n",
      "      0     0     0     0     0     0     0]]\n",
      "\n",
      "Embedded sentence:\n",
      "[[[ 0.03176648  0.04390932  0.00976849 ...  0.02336836 -0.02101143\n",
      "    0.03519324]\n",
      "  [ 0.02517966 -0.03575716 -0.00675922 ... -0.00301816 -0.000521\n",
      "    0.04117246]\n",
      "  [-0.03972762  0.01380021 -0.04318367 ...  0.02390124  0.02925087\n",
      "    0.04898418]\n",
      "  ...\n",
      "  [-0.01369909 -0.00310749  0.04501036 ...  0.01590249 -0.02598536\n",
      "   -0.04867996]\n",
      "  [-0.01369909 -0.00310749  0.04501036 ...  0.01590249 -0.02598536\n",
      "   -0.04867996]\n",
      "  [-0.01369909 -0.00310749  0.04501036 ...  0.01590249 -0.02598536\n",
      "   -0.04867996]]]\n",
      "\n"
     ]
    }
   ],
   "source": [
    "print(f'Sentence:\\n {sample_sentence}\\n')\n",
    "vectorized_sample_sentence = token_vectorizer([sample_sentence])\n",
    "print(f'Vectorized sentence:\\n{vectorized_sample_sentence}\\n')\n",
    "embedded_sample_sentence = token_embedder(vectorized_sample_sentence)\n",
    "print(f'Embedded sentence:\\n{embedded_sample_sentence}\\n')"
   ]
  },
  {
   "cell_type": "code",
   "execution_count": 79,
   "metadata": {
    "id": "-wCa_INRhojW"
   },
   "outputs": [],
   "source": [
    "train_token_data = tf.data.Dataset.from_tensor_slices((train_sentences, train_labels_one_hot_encoded))\n",
    "validation_token_data = tf.data.Dataset.from_tensor_slices((validation_sentences, validation_labels_one_hot_encoded))\n",
    "test_token_data = tf.data.Dataset.from_tensor_slices((test_sentences, test_labels_one_hot_encoded))"
   ]
  },
  {
   "cell_type": "code",
   "execution_count": 80,
   "metadata": {
    "id": "wFWKf1YbjrSH"
   },
   "outputs": [],
   "source": [
    "train_token_data = train_token_data.batch(32).prefetch(tf.data.AUTOTUNE)\n",
    "validation_token_data = validation_token_data.batch(32).prefetch(tf.data.AUTOTUNE)\n",
    "test_token_data = test_token_data.batch(32).prefetch(tf.data.AUTOTUNE)"
   ]
  },
  {
   "cell_type": "code",
   "execution_count": 81,
   "metadata": {
    "id": "h8Rwn2WqkJWa"
   },
   "outputs": [
    {
     "name": "stderr",
     "output_type": "stream",
     "text": [
      "/usr/local/lib/python3.10/dist-packages/keras/src/layers/layer.py:873: UserWarning: Layer 'conv1d_1' (of type Conv1D) was passed an input with a mask attached to it. However, this layer does not support masking and will therefore destroy the mask information. Downstream layers will not see the mask.\n",
      "  warnings.warn(\n"
     ]
    }
   ],
   "source": [
    "inputs = tf.keras.layers.Input(shape = (1,), dtype = tf.string)\n",
    "text_vectors = token_vectorizer(inputs)\n",
    "text_embeddings = token_embedder(text_vectors)\n",
    "x = tf.keras.layers.Conv1D(64, kernel_size = 5, padding = 'same', activation = 'relu')(text_embeddings)\n",
    "x = tf.keras.layers.GlobalAveragePooling1D()(x)\n",
    "outputs = tf.keras.layers.Dense(total_classes, activation = 'softmax')(x)\n",
    "model_1 = tf.keras.Model(inputs, outputs, name = 'conv1d_20k')"
   ]
  },
  {
   "cell_type": "code",
   "execution_count": 82,
   "metadata": {
    "id": "nrGuXYZDltO1"
   },
   "outputs": [],
   "source": [
    "model_1.compile(loss = tf.keras.losses.categorical_crossentropy,\n",
    "                optimizer = tf.keras.optimizers.Adam(learning_rate = 0.003),\n",
    "                metrics = ['accuracy'])"
   ]
  },
  {
   "cell_type": "code",
   "execution_count": 83,
   "metadata": {
    "colab": {
     "base_uri": "https://localhost:8080/"
    },
    "id": "SLlmuechl4Q1",
    "outputId": "e11bac9c-fe23-446b-eadc-abf6ef7f9267"
   },
   "outputs": [
    {
     "name": "stdout",
     "output_type": "stream",
     "text": [
      "Saving TensorBoard log files to: logs//conv1d_20k/20240726-201607\n",
      "Epoch 1/5\n",
      "\u001b[1m1406/1406\u001b[0m \u001b[32m━━━━━━━━━━━━━━━━━━━━\u001b[0m\u001b[37m\u001b[0m \u001b[1m46s\u001b[0m 32ms/step - accuracy: 0.6702 - loss: 0.8372 - val_accuracy: 0.7895 - val_loss: 0.5822\n",
      "Epoch 2/5\n",
      "\u001b[1m1406/1406\u001b[0m \u001b[32m━━━━━━━━━━━━━━━━━━━━\u001b[0m\u001b[37m\u001b[0m \u001b[1m47s\u001b[0m 33ms/step - accuracy: 0.7939 - loss: 0.5739 - val_accuracy: 0.8095 - val_loss: 0.5267\n",
      "Epoch 3/5\n",
      "\u001b[1m1406/1406\u001b[0m \u001b[32m━━━━━━━━━━━━━━━━━━━━\u001b[0m\u001b[37m\u001b[0m \u001b[1m46s\u001b[0m 33ms/step - accuracy: 0.8001 - loss: 0.5559 - val_accuracy: 0.8162 - val_loss: 0.5148\n",
      "Epoch 4/5\n",
      "\u001b[1m1406/1406\u001b[0m \u001b[32m━━━━━━━━━━━━━━━━━━━━\u001b[0m\u001b[37m\u001b[0m \u001b[1m44s\u001b[0m 31ms/step - accuracy: 0.8120 - loss: 0.5267 - val_accuracy: 0.8048 - val_loss: 0.5558\n",
      "Epoch 5/5\n",
      "\u001b[1m1406/1406\u001b[0m \u001b[32m━━━━━━━━━━━━━━━━━━━━\u001b[0m\u001b[37m\u001b[0m \u001b[1m0s\u001b[0m 119us/step - accuracy: 0.7917 - loss: 0.6702 - val_accuracy: 1.0000 - val_loss: 0.1134\n"
     ]
    },
    {
     "name": "stderr",
     "output_type": "stream",
     "text": [
      "/usr/lib/python3.10/contextlib.py:153: UserWarning: Your input ran out of data; interrupting training. Make sure that your dataset or generator can generate at least `steps_per_epoch * epochs` batches. You may need to use the `.repeat()` function when building your dataset.\n",
      "  self.gen.throw(typ, value, traceback)\n",
      "2024-07-26 20:19:10.621173: I tensorflow/core/framework/local_rendezvous.cc:404] Local rendezvous is aborting with status: OUT_OF_RANGE: End of sequence\n",
      "\t [[{{node IteratorGetNext}}]]\n"
     ]
    }
   ],
   "source": [
    "model_1_history = model_1.fit(train_token_data,\n",
    "                              epochs = 5,\n",
    "                              steps_per_epoch = int(0.25 * len(train_token_data)),\n",
    "                              validation_data = validation_token_data,\n",
    "                              validation_steps = int(0.25 * len(validation_token_data)),\n",
    "                              callbacks=[create_tensorboard_callback(dir_name = LOGS_DIR, experiment_name = 'conv1d_20k')])"
   ]
  },
  {
   "cell_type": "code",
   "execution_count": 84,
   "metadata": {
    "colab": {
     "base_uri": "https://localhost:8080/"
    },
    "id": "od9e3NFFnX7h",
    "outputId": "1a27c2ac-2b0c-43e8-b597-42b474eeb1d4"
   },
   "outputs": [
    {
     "name": "stdout",
     "output_type": "stream",
     "text": [
      "\u001b[1m945/945\u001b[0m \u001b[32m━━━━━━━━━━━━━━━━━━━━\u001b[0m\u001b[37m\u001b[0m \u001b[1m6s\u001b[0m 6ms/step - accuracy: 0.8047 - loss: 0.5302\n"
     ]
    },
    {
     "data": {
      "text/plain": [
       "[0.5324324369430542, 0.8090493679046631]"
      ]
     },
     "execution_count": 84,
     "metadata": {},
     "output_type": "execute_result"
    }
   ],
   "source": [
    "model_1.evaluate(validation_token_data)"
   ]
  },
  {
   "cell_type": "code",
   "execution_count": 85,
   "metadata": {
    "colab": {
     "base_uri": "https://localhost:8080/"
    },
    "id": "PVzkZs5Ao38_",
    "outputId": "7394f7c5-3be0-48b5-a007-e231154f6a76"
   },
   "outputs": [
    {
     "name": "stdout",
     "output_type": "stream",
     "text": [
      "\u001b[1m945/945\u001b[0m \u001b[32m━━━━━━━━━━━━━━━━━━━━\u001b[0m\u001b[37m\u001b[0m \u001b[1m6s\u001b[0m 6ms/step\n"
     ]
    },
    {
     "data": {
      "text/plain": [
       "(<tf.Tensor: shape=(30212,), dtype=int64, numpy=array([0, 0, 3, ..., 4, 1, 1])>,\n",
       " array([[1., 0., 0., 0., 0.],\n",
       "        [1., 0., 0., 0., 0.],\n",
       "        [0., 0., 0., 1., 0.],\n",
       "        ...,\n",
       "        [0., 0., 0., 0., 1.],\n",
       "        [0., 1., 0., 0., 0.],\n",
       "        [0., 1., 0., 0., 0.]]))"
      ]
     },
     "execution_count": 85,
     "metadata": {},
     "output_type": "execute_result"
    }
   ],
   "source": [
    "model_1_preds = tf.argmax(model_1.predict(validation_token_data), axis = 1)\n",
    "model_1_preds, validation_labels_one_hot_encoded"
   ]
  },
  {
   "cell_type": "code",
   "execution_count": 86,
   "metadata": {
    "colab": {
     "base_uri": "https://localhost:8080/"
    },
    "id": "iYKdD4eOpMdq",
    "outputId": "2d08e0ce-8635-453c-8978-66906fcca1d4"
   },
   "outputs": [
    {
     "data": {
      "text/plain": [
       "{'accuracy': 80.90493843505891,\n",
       " 'precision': 0.8146089890673979,\n",
       " 'recall': 0.8090493843505892,\n",
       " 'f1': 0.8041147663755502}"
      ]
     },
     "execution_count": 86,
     "metadata": {},
     "output_type": "execute_result"
    }
   ],
   "source": [
    "model_1_results = calculate_results(y_true = validation_labels_label_encoded,\n",
    "                                    y_pred = model_1_preds)\n",
    "model_1_results"
   ]
  },
  {
   "cell_type": "code",
   "execution_count": 105,
   "metadata": {
    "id": "AFFTcmOopocE"
   },
   "outputs": [],
   "source": [
    "use_layer = tfhub.KerasLayer(\"https://tfhub.dev/google/universal-sentence-encoder/4\", trainable=False)"
   ]
  },
  {
   "cell_type": "code",
   "execution_count": 106,
   "metadata": {
    "colab": {
     "base_uri": "https://localhost:8080/"
    },
    "id": "2oFN76eHuK6_",
    "outputId": "4637f17c-e9bb-4c2f-801b-d433ef1d8fc2"
   },
   "outputs": [
    {
     "name": "stdout",
     "output_type": "stream",
     "text": [
      "Sentence:\n",
      " patients with kras exon @ wild-type resectable or suboptimally resectable colorectal liver metastases were randomised in a @:@ ratio to receive chemotherapy with or without cetuximab before and after liver resection .\n",
      "\n",
      "Embedded sentence:\n",
      "[[-0.05194866 -0.04528489  0.00060979 -0.02213926 -0.01749174 -0.07387634\n",
      "  -0.00661172 -0.02403653  0.00041338  0.04581341  0.08231939 -0.05794041\n",
      "  -0.00318274 -0.00498147 -0.05804063 -0.03017569 -0.08290515 -0.06334894\n",
      "  -0.03981418  0.04129298  0.08207209  0.06941615 -0.01186943 -0.02327424\n",
      "  -0.01360889  0.04043709  0.01248823 -0.03840219 -0.02614185  0.06304611\n",
      "  -0.00484863  0.08289432 -0.05983064 -0.01420325 -0.06714552  0.05646594\n",
      "   0.03230911 -0.05136216  0.06365643 -0.08169372  0.04076364  0.06920592\n",
      "  -0.00391963 -0.02814033  0.05068073  0.07512772  0.00556877 -0.00524614\n",
      "   0.01501312  0.03365798 -0.04532109 -0.01837858 -0.05132447 -0.05006457\n",
      "   0.0348931   0.03439472 -0.06273325  0.02033362 -0.02426836  0.00100933\n",
      "   0.00344096  0.03191295 -0.03890278  0.01254869  0.03351225  0.06252216\n",
      "  -0.008148   -0.01123325  0.01953613 -0.07496716 -0.04558609 -0.00223857\n",
      "   0.057549    0.04651258 -0.03854199  0.05508284  0.04524958  0.07478902\n",
      "   0.00218556 -0.03251179 -0.0378572   0.06503647 -0.01936981 -0.01367907\n",
      "   0.02222331  0.04095737  0.01611669 -0.05404094 -0.00747597 -0.04286591\n",
      "   0.00250046  0.01457995 -0.06876294  0.05739378  0.03819561 -0.06978597\n",
      "  -0.05592301 -0.06016358  0.00433343 -0.06535642  0.05611645  0.00853017\n",
      "   0.02076459 -0.03300245  0.03560182 -0.05209014  0.07179914  0.03134334\n",
      "  -0.06870948 -0.01784203 -0.05214459  0.0234794   0.05801705  0.05001876\n",
      "  -0.05175997 -0.05352764 -0.00167049  0.02077753  0.04034758 -0.01362273\n",
      "  -0.05425172  0.04591957  0.00216388  0.0088256   0.06698846 -0.01513053\n",
      "  -0.00433133  0.00388149  0.06516393 -0.06953476 -0.01554602  0.08288728\n",
      "   0.03174652  0.00399613 -0.01044504  0.00584246  0.04065821 -0.04536049\n",
      "   0.04449186 -0.06494179 -0.04537598  0.07181152  0.00428752 -0.03189564\n",
      "  -0.01000165 -0.02353535 -0.00537165 -0.04516608  0.02445778 -0.05524195\n",
      "   0.05825996  0.02387745 -0.00245747  0.01335734  0.08198392  0.04076959\n",
      "  -0.02389058  0.00628747 -0.05222562 -0.00116503 -0.04249902 -0.00268915\n",
      "  -0.04123963 -0.02242757  0.00180409  0.02331393 -0.05323094  0.00761014\n",
      "   0.0556236   0.06761155 -0.07378205 -0.07986765 -0.07927427 -0.07917037\n",
      "   0.03366365 -0.03282164  0.03967073  0.02431593  0.05408734 -0.0274474\n",
      "   0.0119889   0.05137632  0.0463326   0.06454109  0.0009956   0.02859226\n",
      "   0.02513994  0.04579836 -0.00762898  0.02083665  0.05006047 -0.05519916\n",
      "   0.02350508  0.02459646  0.05928411  0.00949324  0.00232744  0.06896722\n",
      "   0.04215091 -0.06340233 -0.06927567  0.06063395  0.04515038  0.04447171\n",
      "   0.02535486  0.01064311  0.06178465 -0.073321    0.00157385  0.06308438\n",
      "   0.00768301  0.05509611 -0.03806517 -0.05309201 -0.05232981  0.05591554\n",
      "   0.00820097  0.04112099  0.00492108  0.04529939 -0.03655428  0.04746485\n",
      "   0.06727576 -0.00639803  0.02293479  0.02499699  0.05301777 -0.04623961\n",
      "  -0.01483251  0.03141627  0.07562037  0.06477599 -0.01081496 -0.05895203\n",
      "   0.06243923  0.05588389  0.04344766 -0.04831055 -0.02657601 -0.04280514\n",
      "   0.00438172  0.07156703 -0.01691311 -0.05234442  0.01461924  0.04965889\n",
      "   0.0209373  -0.00727521 -0.04030634 -0.07833877 -0.0087839  -0.06687041\n",
      "  -0.01734114 -0.05240105 -0.0140015   0.02315831 -0.02698385  0.0280695\n",
      "  -0.00200357  0.03886339  0.03738715 -0.02071683  0.0149659   0.07305811\n",
      "   0.00026118  0.03351206 -0.00545742  0.01757743 -0.06985503  0.0730928\n",
      "  -0.02936492  0.01249319  0.0659086  -0.07727037  0.01170286 -0.07862692\n",
      "  -0.06455474 -0.05167817  0.03541141  0.02903189  0.00328848 -0.01305187\n",
      "  -0.02890014 -0.02483488  0.02320515 -0.02042015  0.04640467  0.00028972\n",
      "  -0.01191795  0.00536212  0.06455826 -0.07268917 -0.00526803 -0.01351426\n",
      "  -0.02291385  0.02409062 -0.00079184 -0.01265031 -0.06335866  0.02303628\n",
      "  -0.04319217  0.03110588 -0.01067996 -0.07371456  0.03284521  0.06988271\n",
      "  -0.02073776 -0.01986298  0.00902737  0.06125958  0.07195969 -0.03214568\n",
      "   0.00222598 -0.06642582  0.05971382 -0.00945678 -0.06466531  0.0492304\n",
      "   0.04006248  0.05813196  0.02032732  0.01173386 -0.00757658  0.04324296\n",
      "  -0.06766637  0.03454437 -0.06974629  0.00147569 -0.07887176 -0.04409586\n",
      "   0.00271391 -0.07523084 -0.02746363  0.0757448   0.04220591 -0.05383728\n",
      "  -0.0094011  -0.05199395  0.05099327 -0.00834607  0.02771232  0.00696622\n",
      "   0.07909597  0.07768311 -0.04863299 -0.08126874 -0.00033099  0.0299651\n",
      "   0.03076611  0.0276632   0.00542594  0.01327475  0.00095411 -0.0103018\n",
      "   0.06284633  0.03096302 -0.03087402  0.01215755 -0.04625281 -0.02269717\n",
      "   0.0393572   0.02950752 -0.03371587 -0.0777776   0.06070162  0.01270137\n",
      "   0.00879771  0.02702142 -0.05335106 -0.01099703 -0.02632351  0.03900257\n",
      "   0.02860169  0.02283893  0.07741085  0.05405612  0.00797698 -0.06409921\n",
      "   0.03063897 -0.00454735 -0.06583455 -0.04498227 -0.01952927 -0.00747197\n",
      "   0.02706039  0.00698386 -0.07583016 -0.0066168   0.01241721  0.00413411\n",
      "   0.00653486 -0.00541058 -0.06767986  0.03937526 -0.06676935 -0.0009519\n",
      "  -0.03234632 -0.02993634  0.02570779 -0.06846502  0.08034842  0.04000079\n",
      "  -0.06770779  0.05884839 -0.02214522 -0.06533487 -0.02713417 -0.05671445\n",
      "   0.05792641 -0.00485601 -0.06646335  0.02427985  0.01551395 -0.01420963\n",
      "   0.03947471 -0.05307201 -0.06331953 -0.00827392  0.0789839  -0.07219093\n",
      "   0.00649844  0.01838978 -0.05315438 -0.0043563   0.0170026  -0.06696626\n",
      "  -0.06388893 -0.03967129 -0.0470317  -0.01198146 -0.04217631 -0.05885248\n",
      "   0.0147059  -0.01621852  0.04339223 -0.02462671  0.02146517 -0.00610514\n",
      "   0.05119974 -0.02704263  0.03232436 -0.05351816 -0.07097618  0.05266379\n",
      "   0.07923561 -0.03603123 -0.06146965 -0.04869183 -0.04339021  0.0418965\n",
      "  -0.02179731 -0.06762172  0.00998003  0.0082348   0.04306016 -0.06949312\n",
      "  -0.07952973  0.06755819  0.04470007  0.06353515  0.04699832 -0.01924744\n",
      "   0.07479931 -0.05591445 -0.02143164  0.05314689 -0.0629939  -0.00812646\n",
      "   0.00996875  0.01554897  0.0779789   0.06488243 -0.068161   -0.05378731\n",
      "   0.00935754  0.0297837   0.06984138  0.06428276 -0.04947175  0.02512476\n",
      "  -0.00697593  0.01178755 -0.03170507 -0.002227    0.02289092 -0.04002337\n",
      "  -0.05465712 -0.07348493 -0.0296976  -0.05687572 -0.02008476  0.03270201\n",
      "   0.02355734 -0.01463142 -0.0188327  -0.04918357 -0.03093192 -0.01670017\n",
      "  -0.00076896 -0.03670032 -0.04602086 -0.01756028 -0.04104206 -0.06964866\n",
      "   0.04174532 -0.08290444 -0.02960388  0.01309727 -0.03129056 -0.02278751\n",
      "  -0.07797619 -0.05243763]]\n",
      "\n"
     ]
    }
   ],
   "source": [
    "print(f'Sentence:\\n {sample_sentence}\\n')\n",
    "use_sample_sentence = use_layer([sample_sentence])\n",
    "print(f'Embedded sentence:\\n{use_sample_sentence}\\n')"
   ]
  },
  {
   "cell_type": "code",
   "execution_count": 108,
   "metadata": {
    "id": "5HEytIuXuxXD",
    "scrolled": true
   },
   "outputs": [],
   "source": [
    "inputs = tf.keras.layers.Input(shape=[], name=\"Input\", dtype=tf.string)\n",
    "text_use_embedding = tf.keras.layers.Lambda(lambda x: use_layer(x), output_shape=(512,))(inputs)\n",
    "x = tf.keras.layers.Dense(128, activation = 'relu')(text_use_embedding)\n",
    "outputs = tf.keras.layers.Dense(total_classes, activation = 'softmax')(x)\n",
    "model_2 = tf.keras.Model(inputs, outputs, name = 'use_20k')"
   ]
  },
  {
   "cell_type": "code",
   "execution_count": 109,
   "metadata": {
    "id": "fmTPb9RCwFPv"
   },
   "outputs": [],
   "source": [
    "model_2.compile(loss = tf.keras.losses.categorical_crossentropy,\n",
    "                optimizer = tf.keras.optimizers.Adam(learning_rate = 0.003),\n",
    "                metrics = ['accuracy'])"
   ]
  },
  {
   "cell_type": "code",
   "execution_count": 110,
   "metadata": {
    "colab": {
     "base_uri": "https://localhost:8080/"
    },
    "id": "1SLWVCYPwQi5",
    "outputId": "c1df0862-bf05-414c-b62b-0c21591a8705"
   },
   "outputs": [
    {
     "name": "stdout",
     "output_type": "stream",
     "text": [
      "Saving TensorBoard log files to: logs//use_20k/20240726-210656\n",
      "Epoch 1/5\n",
      "\u001b[1m1406/1406\u001b[0m \u001b[32m━━━━━━━━━━━━━━━━━━━━\u001b[0m\u001b[37m\u001b[0m \u001b[1m27s\u001b[0m 18ms/step - accuracy: 0.6642 - loss: 0.8630 - val_accuracy: 0.7274 - val_loss: 0.7051\n",
      "Epoch 2/5\n",
      "\u001b[1m1406/1406\u001b[0m \u001b[32m━━━━━━━━━━━━━━━━━━━━\u001b[0m\u001b[37m\u001b[0m \u001b[1m26s\u001b[0m 18ms/step - accuracy: 0.7360 - loss: 0.6873 - val_accuracy: 0.7460 - val_loss: 0.6510\n",
      "Epoch 3/5\n",
      "\u001b[1m1406/1406\u001b[0m \u001b[32m━━━━━━━━━━━━━━━━━━━━\u001b[0m\u001b[37m\u001b[0m \u001b[1m25s\u001b[0m 18ms/step - accuracy: 0.7424 - loss: 0.6711 - val_accuracy: 0.7656 - val_loss: 0.6143\n",
      "Epoch 4/5\n",
      "\u001b[1m1406/1406\u001b[0m \u001b[32m━━━━━━━━━━━━━━━━━━━━\u001b[0m\u001b[37m\u001b[0m \u001b[1m23s\u001b[0m 17ms/step - accuracy: 0.7536 - loss: 0.6459 - val_accuracy: 0.7534 - val_loss: 0.6562\n",
      "Epoch 5/5\n",
      "\u001b[1m1406/1406\u001b[0m \u001b[32m━━━━━━━━━━━━━━━━━━━━\u001b[0m\u001b[37m\u001b[0m \u001b[1m0s\u001b[0m 95us/step - accuracy: 0.7500 - loss: 0.7341 - val_accuracy: 0.7500 - val_loss: 0.5824\n"
     ]
    },
    {
     "name": "stderr",
     "output_type": "stream",
     "text": [
      "/usr/lib/python3.10/contextlib.py:153: UserWarning: Your input ran out of data; interrupting training. Make sure that your dataset or generator can generate at least `steps_per_epoch * epochs` batches. You may need to use the `.repeat()` function when building your dataset.\n",
      "  self.gen.throw(typ, value, traceback)\n"
     ]
    }
   ],
   "source": [
    "model_2_history = model_2.fit(train_token_data,\n",
    "                              epochs = 5,\n",
    "                              steps_per_epoch = int(0.25 * len(train_token_data)),\n",
    "                              validation_data = validation_token_data,\n",
    "                              validation_steps = int(0.25 * len(validation_token_data)),\n",
    "                              callbacks = [create_tensorboard_callback(dir_name = LOGS_DIR, experiment_name = 'use_20k')])"
   ]
  },
  {
   "cell_type": "code",
   "execution_count": 111,
   "metadata": {
    "colab": {
     "base_uri": "https://localhost:8080/"
    },
    "id": "Wiom2pz2wtuF",
    "outputId": "9c595b57-017c-45cf-acfd-8a69c5dbf3cc"
   },
   "outputs": [
    {
     "name": "stdout",
     "output_type": "stream",
     "text": [
      "\u001b[1m945/945\u001b[0m \u001b[32m━━━━━━━━━━━━━━━━━━━━\u001b[0m\u001b[37m\u001b[0m \u001b[1m12s\u001b[0m 12ms/step - accuracy: 0.7600 - loss: 0.6293\n"
     ]
    },
    {
     "data": {
      "text/plain": [
       "[0.6283352971076965, 0.7603270411491394]"
      ]
     },
     "execution_count": 111,
     "metadata": {},
     "output_type": "execute_result"
    }
   ],
   "source": [
    "model_2.evaluate(validation_token_data)"
   ]
  },
  {
   "cell_type": "code",
   "execution_count": 112,
   "metadata": {
    "colab": {
     "base_uri": "https://localhost:8080/"
    },
    "id": "exRM2h6OxJCb",
    "outputId": "bddc1b82-bdf8-4b99-fa1a-84e75de98d4b"
   },
   "outputs": [
    {
     "name": "stdout",
     "output_type": "stream",
     "text": [
      "\u001b[1m945/945\u001b[0m \u001b[32m━━━━━━━━━━━━━━━━━━━━\u001b[0m\u001b[37m\u001b[0m \u001b[1m12s\u001b[0m 12ms/step\n"
     ]
    }
   ],
   "source": [
    "model_2_preds = tf.argmax(model_2.predict(validation_token_data), axis = 1)"
   ]
  },
  {
   "cell_type": "code",
   "execution_count": 113,
   "metadata": {
    "colab": {
     "base_uri": "https://localhost:8080/"
    },
    "id": "QImL0QYcxQu_",
    "outputId": "169d5843-b6b1-4ebd-8c42-76318e560dd6"
   },
   "outputs": [
    {
     "data": {
      "text/plain": [
       "{'accuracy': 76.0327022375215,\n",
       " 'precision': 0.7563483165058491,\n",
       " 'recall': 0.7603270223752151,\n",
       " 'f1': 0.7561004055293974}"
      ]
     },
     "execution_count": 113,
     "metadata": {},
     "output_type": "execute_result"
    }
   ],
   "source": [
    "model_2_results = calculate_results(y_true = validation_labels_label_encoded,\n",
    "                                    y_pred = model_2_preds)\n",
    "model_2_results"
   ]
  },
  {
   "cell_type": "code",
   "execution_count": 114,
   "metadata": {
    "id": "JJxtF7zmznhF"
   },
   "outputs": [],
   "source": [
    "def split_chars(text):\n",
    "  return ' '.join(list(text))"
   ]
  },
  {
   "cell_type": "code",
   "execution_count": 115,
   "metadata": {
    "id": "DQxduId3zs_P"
   },
   "outputs": [],
   "source": [
    "train_chars = [split_chars(sentence) for sentence in train_sentences]\n",
    "validation_chars = [split_chars(sentence) for sentence in validation_sentences]\n",
    "test_chars = [split_chars(sentence) for sentence in test_sentences]"
   ]
  },
  {
   "cell_type": "code",
   "execution_count": 116,
   "metadata": {
    "colab": {
     "base_uri": "https://localhost:8080/"
    },
    "id": "X-LGMmz50Ber",
    "outputId": "aa81b834-7832-4cad-dd3f-2fdb0f715bbd"
   },
   "outputs": [
    {
     "data": {
      "text/plain": [
       "149.3662574983337"
      ]
     },
     "execution_count": 116,
     "metadata": {},
     "output_type": "execute_result"
    }
   ],
   "source": [
    "character_lengths = [len(sentence) for sentence in train_sentences]\n",
    "average_character_length = np.mean(character_lengths)\n",
    "average_character_length"
   ]
  },
  {
   "cell_type": "code",
   "execution_count": 117,
   "metadata": {
    "colab": {
     "base_uri": "https://localhost:8080/",
     "height": 482
    },
    "id": "DDA9PwPy0BUh",
    "outputId": "5673db9f-3ce1-4187-da75-9e006f2be2a8"
   },
   "outputs": [
    {
     "data": {
      "text/plain": [
       "(array([1.69034e+05, 1.07780e+04, 2.09000e+02, 1.60000e+01, 3.00000e+00]),\n",
       " array([1.000e+00, 2.780e+02, 5.550e+02, 8.320e+02, 1.109e+03, 1.386e+03]),\n",
       " <BarContainer object of 5 artists>)"
      ]
     },
     "execution_count": 117,
     "metadata": {},
     "output_type": "execute_result"
    },
    {
     "data": {
      "image/png": "[encoded data removed]",
      "text/plain": [
       "<Figure size 640x480 with 1 Axes>"
      ]
     },
     "metadata": {},
     "output_type": "display_data"
    }
   ],
   "source": [
    "plt.hist(character_lengths, bins = 5)"
   ]
  },
  {
   "cell_type": "code",
   "execution_count": 118,
   "metadata": {
    "colab": {
     "base_uri": "https://localhost:8080/"
    },
    "id": "p7DcJvJv0BIr",
    "outputId": "72f9f190-53ec-4c7d-fc30-18b271a2d15b"
   },
   "outputs": [
    {
     "data": {
      "text/plain": [
       "290"
      ]
     },
     "execution_count": 118,
     "metadata": {},
     "output_type": "execute_result"
    }
   ],
   "source": [
    "output_character_length = int(np.percentile(character_lengths, 95))\n",
    "output_character_length"
   ]
  },
  {
   "cell_type": "code",
   "execution_count": 119,
   "metadata": {
    "colab": {
     "base_uri": "https://localhost:8080/",
     "height": 36
    },
    "id": "FbRQLCkz1Ygw",
    "outputId": "06eaa363-4c41-48af-cca1-c083c198acab"
   },
   "outputs": [
    {
     "data": {
      "text/plain": [
       "'abcdefghijklmnopqrstuvwxyz0123456789!\"#$%&\\'()*+,-./:;<=>?@[\\\\]^_`{|}~'"
      ]
     },
     "execution_count": 119,
     "metadata": {},
     "output_type": "execute_result"
    }
   ],
   "source": [
    "characters = string.ascii_lowercase + string.digits + string.punctuation\n",
    "characters"
   ]
  },
  {
   "cell_type": "code",
   "execution_count": 120,
   "metadata": {
    "colab": {
     "base_uri": "https://localhost:8080/"
    },
    "id": "r3pARFKf2Bkt",
    "outputId": "2351f535-37d5-4966-b8a1-b0b8296d7dbb"
   },
   "outputs": [
    {
     "data": {
      "text/plain": [
       "70"
      ]
     },
     "execution_count": 120,
     "metadata": {},
     "output_type": "execute_result"
    }
   ],
   "source": [
    "max_chars = len(characters) +2\n",
    "max_chars"
   ]
  },
  {
   "cell_type": "code",
   "execution_count": 121,
   "metadata": {
    "id": "5k2_mQyS2K7S"
   },
   "outputs": [],
   "source": [
    "char_vectorizer = tf.keras.layers.TextVectorization(max_tokens = max_chars,\n",
    "                                                    output_sequence_length = output_character_length,\n",
    "                                                    name = 'character_vectorizer_layer')"
   ]
  },
  {
   "cell_type": "code",
   "execution_count": 122,
   "metadata": {
    "id": "2B43QEpw2K2w"
   },
   "outputs": [
    {
     "name": "stderr",
     "output_type": "stream",
     "text": [
      "2024-07-26 21:10:04.002647: W external/local_tsl/tsl/framework/cpu_allocator_impl.cc:83] Allocation of 504080352 exceeds 10% of free system memory.\n"
     ]
    }
   ],
   "source": [
    "char_vectorizer.adapt(train_chars)"
   ]
  },
  {
   "cell_type": "code",
   "execution_count": 123,
   "metadata": {
    "colab": {
     "base_uri": "https://localhost:8080/"
    },
    "id": "TtjVDCK-2Kk1",
    "outputId": "186bf605-a53b-448a-9465-0c57af0ca18c"
   },
   "outputs": [
    {
     "name": "stdout",
     "output_type": "stream",
     "text": [
      "Number of words in char_vocab: 28\n",
      "Most common words in char_vocab: ['', '[UNK]', 'e', 't', 'i', 'a', 'n', 'o', 'r', 's']\n",
      "Least common words in char_vocab: ['g', 'y', 'w', 'v', 'b', 'k', 'x', 'z', 'q', 'j']\n"
     ]
    }
   ],
   "source": [
    "char_vocab = char_vectorizer.get_vocabulary()\n",
    "print(f'Number of words in char_vocab: {len(char_vocab)}')\n",
    "print(f'Most common words in char_vocab: {(char_vocab[:10])}')\n",
    "print(f'Least common words in char_vocab: {(char_vocab[-10:])}')"
   ]
  },
  {
   "cell_type": "code",
   "execution_count": 124,
   "metadata": {
    "colab": {
     "base_uri": "https://localhost:8080/"
    },
    "id": "4Swc7-4e33gW",
    "outputId": "ee3588c5-4841-4cd5-af61-fed42c6b19f0"
   },
   "outputs": [
    {
     "data": {
      "text/plain": [
       "{'name': 'character_vectorizer_layer',\n",
       " 'trainable': True,\n",
       " 'dtype': 'float32',\n",
       " 'max_tokens': 70,\n",
       " 'standardize': 'lower_and_strip_punctuation',\n",
       " 'split': 'whitespace',\n",
       " 'ngrams': None,\n",
       " 'output_mode': 'int',\n",
       " 'output_sequence_length': 290,\n",
       " 'pad_to_max_tokens': False,\n",
       " 'sparse': False,\n",
       " 'ragged': False,\n",
       " 'vocabulary': None,\n",
       " 'idf_weights': None,\n",
       " 'encoding': 'utf-8',\n",
       " 'vocabulary_size': 28}"
      ]
     },
     "execution_count": 124,
     "metadata": {},
     "output_type": "execute_result"
    }
   ],
   "source": [
    "char_vectorizer.get_config()"
   ]
  },
  {
   "cell_type": "code",
   "execution_count": 125,
   "metadata": {
    "id": "2kU9_KMmxd3J"
   },
   "outputs": [],
   "source": [
    "char_embedder = tf.keras.layers.Embedding(input_dim = len(char_vocab),\n",
    "                                               output_dim = 25,\n",
    "                                               mask_zero = True,\n",
    "                                               name = 'character_embedder_layer')"
   ]
  },
  {
   "cell_type": "code",
   "execution_count": 126,
   "metadata": {
    "colab": {
     "base_uri": "https://localhost:8080/"
    },
    "id": "82LP81ZkZ-f-",
    "outputId": "d9510d15-856d-42e9-dd36-f3b26056172b"
   },
   "outputs": [
    {
     "name": "stdout",
     "output_type": "stream",
     "text": [
      "Sentence:\n",
      " p a t i e n t s   w i t h   k r a s   e x o n   @   w i l d - t y p e   r e s e c t a b l e   o r   s u b o p t i m a l l y   r e s e c t a b l e   c o l o r e c t a l   l i v e r   m e t a s t a s e s   w e r e   r a n d o m i s e d   i n   a   @ : @   r a t i o   t o   r e c e i v e   c h e m o t h e r a p y   w i t h   o r   w i t h o u t   c e t u x i m a b   b e f o r e   a n d   a f t e r   l i v e r   r e s e c t i o n   .\n",
      "\n",
      "Vectorized sentence:\n",
      "[[14  5  3  4  2  6  3  9 20  4  3 13 23  8  5  9  2 24  7  6 20  4 12 10\n",
      "   3 19 14  2  8  2  9  2 11  3  5 22 12  2  7  8  9 16 22  7 14  3  4 15\n",
      "   5 12 12 19  8  2  9  2 11  3  5 22 12  2 11  7 12  7  8  2 11  3  5 12\n",
      "  12  4 21  2  8 15  2  3  5  9  3  5  9  2  9 20  2  8  2  8  5  6 10  7\n",
      "  15  4  9  2 10  4  6  5  8  5  3  4  7  3  7  8  2 11  2  4 21  2 11 13\n",
      "   2 15  7  3 13  2  8  5 14 19 20  4  3 13  7  8 20  4  3 13  7 16  3 11\n",
      "   2  3 16 24  4 15  5 22 22  2 17  7  8  2  5  6 10  5 17  3  2  8 12  4\n",
      "  21  2  8  8  2  9  2 11  3  4  7  6  0  0  0  0  0  0  0  0  0  0  0  0\n",
      "   0  0  0  0  0  0  0  0  0  0  0  0  0  0  0  0  0  0  0  0  0  0  0  0\n",
      "   0  0  0  0  0  0  0  0  0  0  0  0  0  0  0  0  0  0  0  0  0  0  0  0\n",
      "   0  0  0  0  0  0  0  0  0  0  0  0  0  0  0  0  0  0  0  0  0  0  0  0\n",
      "   0  0  0  0  0  0  0  0  0  0  0  0  0  0  0  0  0  0  0  0  0  0  0  0\n",
      "   0  0]]\n",
      "\n",
      "Embedded sentence:\n",
      "[[[-0.01650642 -0.01243613  0.00124536 ...  0.04023751 -0.00274137\n",
      "   -0.01083038]\n",
      "  [-0.00591027  0.03576579  0.01425577 ...  0.04446646  0.00615223\n",
      "    0.01905067]\n",
      "  [-0.0479812  -0.04830004 -0.03565865 ... -0.01800679  0.02246959\n",
      "   -0.04414874]\n",
      "  ...\n",
      "  [-0.0420995   0.04037287 -0.01922273 ... -0.00985805 -0.00063559\n",
      "   -0.00095548]\n",
      "  [-0.0420995   0.04037287 -0.01922273 ... -0.00985805 -0.00063559\n",
      "   -0.00095548]\n",
      "  [-0.0420995   0.04037287 -0.01922273 ... -0.00985805 -0.00063559\n",
      "   -0.00095548]]]\n",
      "\n"
     ]
    }
   ],
   "source": [
    "sample_chars = split_chars(sample_sentence)\n",
    "print(f'Sentence:\\n {sample_chars}\\n')\n",
    "vectorized_sample_chars = char_vectorizer([sample_chars])\n",
    "print(f'Vectorized sentence:\\n{vectorized_sample_chars}\\n')\n",
    "embedded_sample_chars = char_embedder(vectorized_sample_chars)\n",
    "print(f'Embedded sentence:\\n{embedded_sample_chars}\\n')"
   ]
  },
  {
   "cell_type": "code",
   "execution_count": 127,
   "metadata": {
    "id": "NoMvdem6cAAa"
   },
   "outputs": [
    {
     "name": "stderr",
     "output_type": "stream",
     "text": [
      "/usr/local/lib/python3.10/dist-packages/keras/src/layers/layer.py:873: UserWarning: Layer 'conv1d_2' (of type Conv1D) was passed an input with a mask attached to it. However, this layer does not support masking and will therefore destroy the mask information. Downstream layers will not see the mask.\n",
      "  warnings.warn(\n"
     ]
    }
   ],
   "source": [
    "inputs = tf.keras.layers.Input(shape = (1, ), dtype = tf.string)\n",
    "char_vectors = char_vectorizer(inputs)\n",
    "char_embeddings = char_embedder(char_vectors)\n",
    "x = tf.keras.layers.Conv1D(64, kernel_size = 5, padding = 'same', activation = 'relu')(char_embeddings)\n",
    "x = tf.keras.layers.GlobalAveragePooling1D()(x)\n",
    "outputs = tf.keras.layers.Dense(total_classes, activation = 'softmax')(x)\n",
    "model_3 = tf.keras.Model(inputs, outputs, name = 'conv1d_char_20k')"
   ]
  },
  {
   "cell_type": "code",
   "execution_count": 128,
   "metadata": {
    "id": "QhhlkFrhdLNx"
   },
   "outputs": [],
   "source": [
    "model_3.compile(loss = tf.keras.losses.categorical_crossentropy,\n",
    "                optimizer = tf.keras.optimizers.Adam(learning_rate = 0.003),\n",
    "                metrics = ['accuracy'])"
   ]
  },
  {
   "cell_type": "code",
   "execution_count": 129,
   "metadata": {
    "id": "uyGVY-WEdURP"
   },
   "outputs": [],
   "source": [
    "train_char_data = tf.data.Dataset.from_tensor_slices((train_chars, train_labels_one_hot_encoded))\n",
    "validation_char_data = tf.data.Dataset.from_tensor_slices((validation_chars, validation_labels_one_hot_encoded))\n",
    "test_char_data = tf.data.Dataset.from_tensor_slices((test_chars, test_labels_one_hot_encoded))"
   ]
  },
  {
   "cell_type": "code",
   "execution_count": 130,
   "metadata": {
    "id": "_oLw2gNceaBE"
   },
   "outputs": [],
   "source": [
    "train_char_data = train_char_data.batch(32).prefetch(tf.data.AUTOTUNE)\n",
    "validation_char_data = validation_char_data.batch(32).prefetch(tf.data.AUTOTUNE)\n",
    "test_char_data = test_char_data.batch(32).prefetch(tf.data.AUTOTUNE)"
   ]
  },
  {
   "cell_type": "code",
   "execution_count": 131,
   "metadata": {
    "colab": {
     "base_uri": "https://localhost:8080/"
    },
    "id": "uPviVwT-euTW",
    "outputId": "edd10fa0-a217-4d1d-8c37-41ca51b829b6"
   },
   "outputs": [
    {
     "name": "stdout",
     "output_type": "stream",
     "text": [
      "Saving TensorBoard log files to: logs//conv1d_char_20k/20240726-211007\n",
      "Epoch 1/5\n",
      "\u001b[1m1406/1406\u001b[0m \u001b[32m━━━━━━━━━━━━━━━━━━━━\u001b[0m\u001b[37m\u001b[0m \u001b[1m18s\u001b[0m 12ms/step - accuracy: 0.3870 - loss: 1.3986 - val_accuracy: 0.5026 - val_loss: 1.2212\n",
      "Epoch 2/5\n",
      "\u001b[1m1406/1406\u001b[0m \u001b[32m━━━━━━━━━━━━━━━━━━━━\u001b[0m\u001b[37m\u001b[0m \u001b[1m16s\u001b[0m 11ms/step - accuracy: 0.5003 - loss: 1.2110 - val_accuracy: 0.5466 - val_loss: 1.1222\n",
      "Epoch 3/5\n",
      "\u001b[1m1406/1406\u001b[0m \u001b[32m━━━━━━━━━━━━━━━━━━━━\u001b[0m\u001b[37m\u001b[0m \u001b[1m17s\u001b[0m 12ms/step - accuracy: 0.5478 - loss: 1.1111 - val_accuracy: 0.5889 - val_loss: 1.0269\n",
      "Epoch 4/5\n",
      "\u001b[1m1406/1406\u001b[0m \u001b[32m━━━━━━━━━━━━━━━━━━━━\u001b[0m\u001b[37m\u001b[0m \u001b[1m16s\u001b[0m 12ms/step - accuracy: 0.5918 - loss: 1.0270 - val_accuracy: 0.5720 - val_loss: 1.0595\n",
      "Epoch 5/5\n",
      "\u001b[1m1406/1406\u001b[0m \u001b[32m━━━━━━━━━━━━━━━━━━━━\u001b[0m\u001b[37m\u001b[0m \u001b[1m0s\u001b[0m 71us/step - accuracy: 0.5694 - loss: 1.0249 - val_accuracy: 0.5000 - val_loss: 0.9676\n"
     ]
    },
    {
     "name": "stderr",
     "output_type": "stream",
     "text": [
      "/usr/lib/python3.10/contextlib.py:153: UserWarning: Your input ran out of data; interrupting training. Make sure that your dataset or generator can generate at least `steps_per_epoch * epochs` batches. You may need to use the `.repeat()` function when building your dataset.\n",
      "  self.gen.throw(typ, value, traceback)\n",
      "2024-07-26 21:11:13.974980: I tensorflow/core/framework/local_rendezvous.cc:404] Local rendezvous is aborting with status: OUT_OF_RANGE: End of sequence\n",
      "\t [[{{node IteratorGetNext}}]]\n"
     ]
    }
   ],
   "source": [
    "model_3_history = model_3.fit(train_char_data,\n",
    "                              epochs = 5,\n",
    "                              steps_per_epoch = int(0.25 * len(train_char_data)),\n",
    "                              validation_data = validation_char_data,\n",
    "                              validation_steps = int(0.25 * len(validation_char_data)),\n",
    "                              callbacks = [create_tensorboard_callback(dir_name = LOGS_DIR, experiment_name = 'conv1d_char_20k')])\n"
   ]
  },
  {
   "cell_type": "code",
   "execution_count": 132,
   "metadata": {
    "colab": {
     "base_uri": "https://localhost:8080/"
    },
    "id": "XM-9CwEffl83",
    "outputId": "7cd01f5f-40ea-4c2a-919d-c22afa5537ca"
   },
   "outputs": [
    {
     "name": "stdout",
     "output_type": "stream",
     "text": [
      "\u001b[1m945/945\u001b[0m \u001b[32m━━━━━━━━━━━━━━━━━━━━\u001b[0m\u001b[37m\u001b[0m \u001b[1m6s\u001b[0m 7ms/step - accuracy: 0.6184 - loss: 0.9595\n"
     ]
    },
    {
     "data": {
      "text/plain": [
       "[0.9632526636123657, 0.6185290813446045]"
      ]
     },
     "execution_count": 132,
     "metadata": {},
     "output_type": "execute_result"
    }
   ],
   "source": [
    "model_3.evaluate(validation_char_data)"
   ]
  },
  {
   "cell_type": "code",
   "execution_count": 133,
   "metadata": {
    "colab": {
     "base_uri": "https://localhost:8080/"
    },
    "id": "yHaO7h2rfViL",
    "outputId": "478056a8-c0e5-4911-bb9f-2b264095a331"
   },
   "outputs": [
    {
     "name": "stdout",
     "output_type": "stream",
     "text": [
      "\u001b[1m945/945\u001b[0m \u001b[32m━━━━━━━━━━━━━━━━━━━━\u001b[0m\u001b[37m\u001b[0m \u001b[1m6s\u001b[0m 6ms/step\n"
     ]
    }
   ],
   "source": [
    "model_3_preds = tf.argmax(model_3.predict(validation_char_data), axis = 1)"
   ]
  },
  {
   "cell_type": "code",
   "execution_count": 134,
   "metadata": {
    "colab": {
     "base_uri": "https://localhost:8080/"
    },
    "id": "c_CNFO64fwSB",
    "outputId": "ec5ecec0-d14d-4e26-8795-36d2a0cd9949"
   },
   "outputs": [
    {
     "data": {
      "text/plain": [
       "{'accuracy': 61.85290613001456,\n",
       " 'precision': 0.5999025018464338,\n",
       " 'recall': 0.6185290613001456,\n",
       " 'f1': 0.5937408914538367}"
      ]
     },
     "execution_count": 134,
     "metadata": {},
     "output_type": "execute_result"
    }
   ],
   "source": [
    "model_3_results = calculate_results(y_true = validation_labels_label_encoded,\n",
    "                                    y_pred = model_3_preds)\n",
    "model_3_results"
   ]
  },
  {
   "cell_type": "code",
   "execution_count": 160,
   "metadata": {
    "id": "0pgjfd38f3wY"
   },
   "outputs": [],
   "source": [
    "token_inputs = tf.keras.layers.Input(shape=(), dtype=tf.string, name='token_input')\n",
    "token_embeddings = tf.keras.layers.Lambda(lambda x: use_layer(x), output_shape=(512,))(token_inputs)\n",
    "token_outputs = tf.keras.layers.Dense(256, activation='relu', name='token_output')(token_embeddings)\n",
    "token_model = tf.keras.Model(token_inputs, token_outputs, name='token_model')\n"
   ]
  },
  {
   "cell_type": "code",
   "execution_count": 161,
   "metadata": {
    "id": "AHkGJHoAXo2o"
   },
   "outputs": [],
   "source": [
    "# Define the char input model\n",
    "char_inputs = tf.keras.layers.Input(shape=(1,), dtype=tf.string, name='char_input')\n",
    "char_vectors = char_vectorizer(char_inputs)\n",
    "char_embeddings = char_embedder(char_vectors)\n",
    "char_outputs = tf.keras.layers.Bidirectional(tf.keras.layers.LSTM(24), name='char_output')(char_embeddings)\n",
    "char_model = tf.keras.Model(char_inputs, char_outputs, name='char_model')"
   ]
  },
  {
   "cell_type": "code",
   "execution_count": 162,
   "metadata": {
    "id": "5z6TYEx7YU7E"
   },
   "outputs": [],
   "source": [
    "token_char_inputs = tf.keras.layers.Concatenate(name='token_char_input')([token_model.output, char_model.output])\n"
   ]
  },
  {
   "cell_type": "code",
   "execution_count": 163,
   "metadata": {
    "id": "QR6PULrpZbEm"
   },
   "outputs": [],
   "source": [
    "token_char_dropout_1 = tf.keras.layers.Dropout(0.5, name='token_char_dropout_1')(token_char_inputs)\n",
    "token_char_dense = tf.keras.layers.Dense(128, activation='relu', name='token_char_dense')(token_char_dropout_1)\n",
    "token_char_dropout_2 = tf.keras.layers.Dropout(0.5, name='token_char_dropout_2')(token_char_dense)\n",
    "token_char_outputs = tf.keras.layers.Dense(total_classes, activation='softmax', name='token_char_output')(token_char_dropout_2)\n"
   ]
  },
  {
   "cell_type": "code",
   "execution_count": 164,
   "metadata": {
    "id": "J61tICawaF34"
   },
   "outputs": [],
   "source": [
    "model_4 = tf.keras.Model(inputs=[token_model.input, char_model.input], outputs=token_char_outputs, name='token_char_20k')\n"
   ]
  },
  {
   "cell_type": "code",
   "execution_count": 165,
   "metadata": {
    "colab": {
     "base_uri": "https://localhost:8080/",
     "height": 675
    },
    "id": "1hGII9czbc8W",
    "outputId": "3f5a905e-f5c3-4324-f7c8-97d1ba4b799b"
   },
   "outputs": [
    {
     "name": "stdout",
     "output_type": "stream",
     "text": [
      "You must install pydot (`pip install pydot`) for `plot_model` to work.\n"
     ]
    }
   ],
   "source": [
    "tf.keras.utils.plot_model(model_4, show_shapes = True)"
   ]
  },
  {
   "cell_type": "code",
   "execution_count": 166,
   "metadata": {
    "id": "ZktqVlTebc4U"
   },
   "outputs": [],
   "source": [
    "train_token_char_data = tf.data.Dataset.from_tensor_slices((train_sentences, train_chars))\n",
    "train_token_char_labels = tf.data.Dataset.from_tensor_slices(train_labels_one_hot_encoded)\n",
    "train_token_char_dataset = tf.data.Dataset.zip((train_token_char_data, train_token_char_labels))\n",
    "\n",
    "validation_token_char_data = tf.data.Dataset.from_tensor_slices((validation_sentences, validation_chars))\n",
    "validation_token_char_labels = tf.data.Dataset.from_tensor_slices(validation_labels_one_hot_encoded)\n",
    "validation_token_char_dataset = tf.data.Dataset.zip((validation_token_char_data, validation_token_char_labels))\n"
   ]
  },
  {
   "cell_type": "code",
   "execution_count": 167,
   "metadata": {
    "id": "LdJ0Sshzbcah"
   },
   "outputs": [],
   "source": [
    "train_token_char_dataset = train_token_char_dataset.batch(32).prefetch(tf.data.AUTOTUNE)\n",
    "validation_token_char_dataset = validation_token_char_dataset.batch(32).prefetch(tf.data.AUTOTUNE)"
   ]
  },
  {
   "cell_type": "code",
   "execution_count": 168,
   "metadata": {
    "id": "SZLqo0gqaw9V"
   },
   "outputs": [],
   "source": [
    "model_4.compile(\n",
    "    loss=tf.keras.losses.categorical_crossentropy,\n",
    "    optimizer=tf.keras.optimizers.Adam(learning_rate=0.003),\n",
    "    metrics=['accuracy']\n",
    ")"
   ]
  },
  {
   "cell_type": "code",
   "execution_count": 169,
   "metadata": {
    "colab": {
     "base_uri": "https://localhost:8080/"
    },
    "id": "QTeb3vkHbcVn",
    "outputId": "786278f3-dc05-4e84-d30d-ddf579b214ef"
   },
   "outputs": [
    {
     "name": "stdout",
     "output_type": "stream",
     "text": [
      "Saving TensorBoard log files to: logs//token_char_20k/20240726-213526\n",
      "Epoch 1/5\n",
      "\u001b[1m1406/1406\u001b[0m \u001b[32m━━━━━━━━━━━━━━━━━━━━\u001b[0m\u001b[37m\u001b[0m \u001b[1m262s\u001b[0m 182ms/step - accuracy: 0.6378 - loss: 0.9181 - val_accuracy: 0.7275 - val_loss: 0.7014\n",
      "Epoch 2/5\n",
      "\u001b[1m1406/1406\u001b[0m \u001b[32m━━━━━━━━━━━━━━━━━━━━\u001b[0m\u001b[37m\u001b[0m \u001b[1m256s\u001b[0m 182ms/step - accuracy: 0.7153 - loss: 0.7529 - val_accuracy: 0.7558 - val_loss: 0.6408\n",
      "Epoch 3/5\n",
      "\u001b[1m1406/1406\u001b[0m \u001b[32m━━━━━━━━━━━━━━━━━━━━\u001b[0m\u001b[37m\u001b[0m \u001b[1m258s\u001b[0m 184ms/step - accuracy: 0.7201 - loss: 0.7368 - val_accuracy: 0.7680 - val_loss: 0.6106\n",
      "Epoch 4/5\n",
      "\u001b[1m1406/1406\u001b[0m \u001b[32m━━━━━━━━━━━━━━━━━━━━\u001b[0m\u001b[37m\u001b[0m \u001b[1m254s\u001b[0m 181ms/step - accuracy: 0.7315 - loss: 0.7149 - val_accuracy: 0.7611 - val_loss: 0.6390\n",
      "Epoch 5/5\n",
      "\u001b[1m1406/1406\u001b[0m \u001b[32m━━━━━━━━━━━━━━━━━━━━\u001b[0m\u001b[37m\u001b[0m \u001b[1m1s\u001b[0m 294us/step - accuracy: 0.6806 - loss: 0.7757 - val_accuracy: 0.7500 - val_loss: 0.6338\n"
     ]
    },
    {
     "name": "stderr",
     "output_type": "stream",
     "text": [
      "/usr/lib/python3.10/contextlib.py:153: UserWarning: Your input ran out of data; interrupting training. Make sure that your dataset or generator can generate at least `steps_per_epoch * epochs` batches. You may need to use the `.repeat()` function when building your dataset.\n",
      "  self.gen.throw(typ, value, traceback)\n"
     ]
    }
   ],
   "source": [
    "model_4_history = model_4.fit(\n",
    "    train_token_char_dataset,\n",
    "    epochs=5,\n",
    "    steps_per_epoch=int(0.25 * len(train_token_char_dataset)),\n",
    "    validation_data=validation_token_char_dataset,\n",
    "    validation_steps=int(0.25 * len(validation_token_char_dataset)),\n",
    "    callbacks=[create_tensorboard_callback(dir_name=LOGS_DIR, experiment_name='token_char_20k')]\n",
    ")"
   ]
  },
  {
   "cell_type": "code",
   "execution_count": 170,
   "metadata": {
    "colab": {
     "base_uri": "https://localhost:8080/"
    },
    "id": "UgGvVmI6bcIG",
    "outputId": "39607497-b09a-468c-8a63-74492bf0d192"
   },
   "outputs": [
    {
     "name": "stdout",
     "output_type": "stream",
     "text": [
      "\u001b[1m945/945\u001b[0m \u001b[32m━━━━━━━━━━━━━━━━━━━━\u001b[0m\u001b[37m\u001b[0m \u001b[1m30s\u001b[0m 32ms/step - accuracy: 0.7646 - loss: 0.6260\n"
     ]
    },
    {
     "data": {
      "text/plain": [
       "[0.6219335198402405, 0.7670131325721741]"
      ]
     },
     "execution_count": 170,
     "metadata": {},
     "output_type": "execute_result"
    }
   ],
   "source": [
    "model_4.evaluate(validation_token_char_dataset)"
   ]
  },
  {
   "cell_type": "code",
   "execution_count": 171,
   "metadata": {
    "colab": {
     "base_uri": "https://localhost:8080/"
    },
    "id": "VyzfGuZkbE6q",
    "outputId": "592d1e13-7321-4982-8baf-2f0a0224eb55"
   },
   "outputs": [
    {
     "name": "stdout",
     "output_type": "stream",
     "text": [
      "\u001b[1m945/945\u001b[0m \u001b[32m━━━━━━━━━━━━━━━━━━━━\u001b[0m\u001b[37m\u001b[0m \u001b[1m31s\u001b[0m 32ms/step\n"
     ]
    }
   ],
   "source": [
    "model_4_preds = tf.argmax(model_4.predict(validation_token_char_dataset), axis = 1)"
   ]
  },
  {
   "cell_type": "code",
   "execution_count": 172,
   "metadata": {
    "colab": {
     "base_uri": "https://localhost:8080/"
    },
    "id": "wvP8DRYtgcuu",
    "outputId": "68b0e8c2-186e-495f-a53e-c61e73a5bd92"
   },
   "outputs": [
    {
     "data": {
      "text/plain": [
       "{'accuracy': 76.70131073745532,\n",
       " 'precision': 0.7633596713633759,\n",
       " 'recall': 0.7670131073745532,\n",
       " 'f1': 0.7619081127188838}"
      ]
     },
     "execution_count": 172,
     "metadata": {},
     "output_type": "execute_result"
    }
   ],
   "source": [
    "model_4_results = calculate_results(y_true = validation_labels_label_encoded,\n",
    "                                    y_pred = model_4_preds)\n",
    "model_4_results"
   ]
  },
  {
   "cell_type": "code",
   "execution_count": 173,
   "metadata": {
    "colab": {
     "base_uri": "https://localhost:8080/",
     "height": 447
    },
    "id": "rmKJ7TGugnMK",
    "outputId": "8dfe0635-64b1-4024-92d3-ba181f9d4214"
   },
   "outputs": [
    {
     "data": {
      "text/plain": [
       "<Axes: ylabel='Frequency'>"
      ]
     },
     "execution_count": 173,
     "metadata": {},
     "output_type": "execute_result"
    },
    {
     "data": {
      "image/png": "[encoded data removed]",
      "text/plain": [
       "<Figure size 640x480 with 1 Axes>"
      ]
     },
     "metadata": {},
     "output_type": "display_data"
    }
   ],
   "source": [
    "train_df['line_number'].plot.hist()"
   ]
  },
  {
   "cell_type": "code",
   "execution_count": 174,
   "metadata": {
    "id": "4KGt3HpflzWQ"
   },
   "outputs": [],
   "source": [
    "train_line_numbers_one_hot_encoded = tf.one_hot(train_df['line_number'].to_numpy(), depth = 15)\n",
    "validation_line_numbers_one_hot_encoded = tf.one_hot(validation_df['line_number'].to_numpy(), depth = 15)\n",
    "test_line_numbers_one_hot_encoded = tf.one_hot(test_df['line_number'].to_numpy(), depth = 15)"
   ]
  },
  {
   "cell_type": "code",
   "execution_count": 175,
   "metadata": {
    "colab": {
     "base_uri": "https://localhost:8080/",
     "height": 448
    },
    "id": "V9AlcTeMPhHG",
    "outputId": "854a3120-eb5b-4827-c692-78c3260387eb"
   },
   "outputs": [
    {
     "data": {
      "text/plain": [
       "<Axes: ylabel='Frequency'>"
      ]
     },
     "execution_count": 175,
     "metadata": {},
     "output_type": "execute_result"
    },
    {
     "data": {
      "image/png": "[encoded data removed]",
      "text/plain": [
       "<Figure size 640x480 with 1 Axes>"
      ]
     },
     "metadata": {},
     "output_type": "display_data"
    }
   ],
   "source": [
    "train_df['total_lines'].plot.hist()"
   ]
  },
  {
   "cell_type": "code",
   "execution_count": 176,
   "metadata": {
    "id": "iBK47knOPlsJ"
   },
   "outputs": [],
   "source": [
    "train_total_lines_one_hot_encoded = tf.one_hot(train_df['total_lines'].to_numpy(), depth = 20)\n",
    "validation_total_lines_one_hot_encoded = tf.one_hot(validation_df['total_lines'].to_numpy(), depth = 20)\n",
    "test_total_lines_one_hot_encoded = tf.one_hot(test_df['total_lines'].to_numpy(), depth = 20)"
   ]
  },
  {
   "cell_type": "code",
   "execution_count": 177,
   "metadata": {
    "id": "jdGu4GWDP5xh"
   },
   "outputs": [],
   "source": [
    "line_number_inputs = tf.keras.layers.Input(shape = (15, ), dtype = tf.float32, name = 'line_number_input')\n",
    "line_number_outputs = tf.keras.layers.Dense(32, activation = 'relu', name = 'line_number_output')(line_number_inputs)\n",
    "line_number_model = tf.keras.Model(line_number_inputs, line_number_outputs)"
   ]
  },
  {
   "cell_type": "code",
   "execution_count": 178,
   "metadata": {
    "id": "hCqRex52TQHs"
   },
   "outputs": [],
   "source": [
    "total_lines_inputs = tf.keras.layers.Input(shape = (20, ), dtype = tf.float32, name = 'total_lines_input')\n",
    "total_lines_outputs = tf.keras.layers.Dense(32, activation = 'relu', name = 'total_line_output')(total_lines_inputs)\n",
    "total_lines_model = tf.keras.Model(total_lines_inputs, total_lines_outputs, name = 'total_lines_model')"
   ]
  },
  {
   "cell_type": "code",
   "execution_count": 179,
   "metadata": {
    "id": "NrdV4Q5sT-S9"
   },
   "outputs": [],
   "source": [
    "token_char_dense = tf.keras.layers.Dense(256, activation = 'relu', name = 'token_char_dense')(token_char_inputs)\n",
    "token_char_dropout = tf.keras.layers.Dropout(0.5, name = 'token_char_dropout')(token_char_dense)\n",
    "token_char_positional_inputs = tf.keras.layers.Concatenate(name = 'token_char_positional_inputs')([line_number_model.output,\n",
    "                                                                                                   total_lines_model.output,\n",
    "                                                                                                   token_char_dropout])\n",
    "token_char_positional_outputs = tf.keras.layers.Dense(total_classes, activation = 'softmax', name = 'token_char_positional_output')(token_char_positional_inputs)\n",
    "model_5 = tf.keras.Model([line_number_model.input,\n",
    "                          total_lines_model.input,\n",
    "                          token_model.input,\n",
    "                          char_model.input],\n",
    "                         token_char_positional_outputs)"
   ]
  },
  {
   "cell_type": "code",
   "execution_count": 180,
   "metadata": {
    "colab": {
     "base_uri": "https://localhost:8080/",
     "height": 522
    },
    "id": "fOrxD_dbXVBt",
    "outputId": "4f4014db-20a7-45cd-dfff-b7d51ae13a78"
   },
   "outputs": [
    {
     "name": "stdout",
     "output_type": "stream",
     "text": [
      "You must install pydot (`pip install pydot`) for `plot_model` to work.\n"
     ]
    }
   ],
   "source": [
    "tf.keras.utils.plot_model(model_5)"
   ]
  },
  {
   "cell_type": "code",
   "execution_count": 181,
   "metadata": {
    "id": "z7tcApgeWhGR"
   },
   "outputs": [],
   "source": [
    "model_5.compile(loss = tf.keras.losses.CategoricalCrossentropy(label_smoothing = 0.2),\n",
    "                optimizer = tf.keras.optimizers.Adam(learning_rate = 0.003),\n",
    "                metrics = ['accuracy'])"
   ]
  },
  {
   "cell_type": "code",
   "execution_count": 182,
   "metadata": {
    "id": "krRaQrSRXY5t"
   },
   "outputs": [],
   "source": [
    "train_token_char_positional_data = tf.data.Dataset.from_tensor_slices((train_line_numbers_one_hot_encoded, train_total_lines_one_hot_encoded, train_sentences, train_chars))\n",
    "train_token_char_positional_labels = tf.data.Dataset.from_tensor_slices(train_labels_one_hot_encoded)\n",
    "train_token_char_positional_dataset = tf.data.Dataset.zip((train_token_char_positional_data, train_token_char_positional_labels))\n",
    "validation_token_char_positional_data = tf.data.Dataset.from_tensor_slices((validation_line_numbers_one_hot_encoded, validation_total_lines_one_hot_encoded, validation_sentences, validation_chars))\n",
    "validation_token_char_positional_labels = tf.data.Dataset.from_tensor_slices(validation_labels_one_hot_encoded)\n",
    "validation_token_char_positional_dataset = tf.data.Dataset.zip((validation_token_char_positional_data, validation_token_char_positional_labels))"
   ]
  },
  {
   "cell_type": "code",
   "execution_count": 183,
   "metadata": {
    "id": "sUv8eWxTbsIC"
   },
   "outputs": [],
   "source": [
    "train_token_char_positional_dataset = train_token_char_positional_dataset.batch(32).prefetch(tf.data.AUTOTUNE)\n",
    "validation_token_char_positional_dataset = validation_token_char_positional_dataset.batch(32).prefetch(tf.data.AUTOTUNE)"
   ]
  },
  {
   "cell_type": "code",
   "execution_count": 184,
   "metadata": {
    "colab": {
     "base_uri": "https://localhost:8080/"
    },
    "id": "GiBfHUJJW_34",
    "outputId": "a85905b4-145b-4528-c521-d04f7db9f68f"
   },
   "outputs": [
    {
     "name": "stdout",
     "output_type": "stream",
     "text": [
      "Saving TensorBoard log files to: logs//token_char_positional_20k/20240726-215424\n",
      "Epoch 1/5\n",
      "\u001b[1m1406/1406\u001b[0m \u001b[32m━━━━━━━━━━━━━━━━━━━━\u001b[0m\u001b[37m\u001b[0m \u001b[1m263s\u001b[0m 183ms/step - accuracy: 0.7939 - loss: 1.0033 - val_accuracy: 0.8460 - val_loss: 0.9236\n",
      "Epoch 2/5\n",
      "\u001b[1m1406/1406\u001b[0m \u001b[32m━━━━━━━━━━━━━━━━━━━━\u001b[0m\u001b[37m\u001b[0m \u001b[1m249s\u001b[0m 177ms/step - accuracy: 0.8422 - loss: 0.9303 - val_accuracy: 0.8563 - val_loss: 0.9004\n",
      "Epoch 3/5\n",
      "\u001b[1m1406/1406\u001b[0m \u001b[32m━━━━━━━━━━━━━━━━━━━━\u001b[0m\u001b[37m\u001b[0m \u001b[1m254s\u001b[0m 181ms/step - accuracy: 0.8451 - loss: 0.9297 - val_accuracy: 0.8614 - val_loss: 0.9070\n",
      "Epoch 4/5\n",
      "\u001b[1m1406/1406\u001b[0m \u001b[32m━━━━━━━━━━━━━━━━━━━━\u001b[0m\u001b[37m\u001b[0m \u001b[1m253s\u001b[0m 180ms/step - accuracy: 0.8472 - loss: 0.9247 - val_accuracy: 0.8464 - val_loss: 0.9100\n",
      "Epoch 5/5\n",
      "\u001b[1m1406/1406\u001b[0m \u001b[32m━━━━━━━━━━━━━━━━━━━━\u001b[0m\u001b[37m\u001b[0m \u001b[1m1s\u001b[0m 306us/step - accuracy: 0.7639 - loss: 1.0307 - val_accuracy: 0.7500 - val_loss: 0.8133\n"
     ]
    },
    {
     "name": "stderr",
     "output_type": "stream",
     "text": [
      "/usr/lib/python3.10/contextlib.py:153: UserWarning: Your input ran out of data; interrupting training. Make sure that your dataset or generator can generate at least `steps_per_epoch * epochs` batches. You may need to use the `.repeat()` function when building your dataset.\n",
      "  self.gen.throw(typ, value, traceback)\n"
     ]
    }
   ],
   "source": [
    "model_5_history = model_5.fit(train_token_char_positional_dataset,\n",
    "                              epochs = 5,\n",
    "                              steps_per_epoch = int(0.25 * len(train_token_char_positional_dataset)),\n",
    "                              validation_data = validation_token_char_positional_dataset,\n",
    "                              validation_steps = int(0.25 * len(validation_token_char_positional_dataset)),\n",
    "                              callbacks = [create_tensorboard_callback(dir_name = LOGS_DIR, experiment_name = 'token_char_positional_20k')])"
   ]
  },
  {
   "cell_type": "code",
   "execution_count": 185,
   "metadata": {
    "colab": {
     "base_uri": "https://localhost:8080/"
    },
    "id": "LbXuK176dL13",
    "outputId": "09755d37-26cd-4ad3-ebfa-225319393a48"
   },
   "outputs": [
    {
     "name": "stdout",
     "output_type": "stream",
     "text": [
      "\u001b[1m945/945\u001b[0m \u001b[32m━━━━━━━━━━━━━━━━━━━━\u001b[0m\u001b[37m\u001b[0m \u001b[1m29s\u001b[0m 31ms/step - accuracy: 0.8509 - loss: 0.9067\n"
     ]
    },
    {
     "data": {
      "text/plain": [
       "[0.9049688577651978, 0.8517807722091675]"
      ]
     },
     "execution_count": 185,
     "metadata": {},
     "output_type": "execute_result"
    }
   ],
   "source": [
    "model_5.evaluate(validation_token_char_positional_dataset)"
   ]
  },
  {
   "cell_type": "code",
   "execution_count": 186,
   "metadata": {
    "colab": {
     "base_uri": "https://localhost:8080/"
    },
    "id": "nhyHUjzhdRft",
    "outputId": "120733c7-f18d-4a8c-9f6c-d626ce3260fd"
   },
   "outputs": [
    {
     "name": "stdout",
     "output_type": "stream",
     "text": [
      "\u001b[1m945/945\u001b[0m \u001b[32m━━━━━━━━━━━━━━━━━━━━\u001b[0m\u001b[37m\u001b[0m \u001b[1m29s\u001b[0m 29ms/step\n"
     ]
    }
   ],
   "source": [
    "model_5_preds = tf.argmax(model_5.predict(validation_token_char_positional_dataset), axis = 1)"
   ]
  },
  {
   "cell_type": "code",
   "execution_count": 187,
   "metadata": {
    "colab": {
     "base_uri": "https://localhost:8080/"
    },
    "id": "_vcKC4XZdd50",
    "outputId": "654e3085-e467-4f61-b0d2-c946b60ca92b"
   },
   "outputs": [
    {
     "data": {
      "text/plain": [
       "{'accuracy': 85.17807493711108,\n",
       " 'precision': 0.8528839542063553,\n",
       " 'recall': 0.8517807493711108,\n",
       " 'f1': 0.8477051303092041}"
      ]
     },
     "execution_count": 187,
     "metadata": {},
     "output_type": "execute_result"
    }
   ],
   "source": [
    "model_5_results = calculate_results(y_true = validation_labels_label_encoded,\n",
    "                                    y_pred = model_5_preds)\n",
    "model_5_results"
   ]
  },
  {
   "cell_type": "code",
   "execution_count": 189,
   "metadata": {
    "id": "VfimDk2pnpiM"
   },
   "outputs": [
    {
     "data": {
      "text/html": [
       "<div>\n",
       "<style scoped>\n",
       "    .dataframe tbody tr th:only-of-type {\n",
       "        vertical-align: middle;\n",
       "    }\n",
       "\n",
       "    .dataframe tbody tr th {\n",
       "        vertical-align: top;\n",
       "    }\n",
       "\n",
       "    .dataframe thead th {\n",
       "        text-align: right;\n",
       "    }\n",
       "</style>\n",
       "<table border=\"1\" class=\"dataframe\">\n",
       "  <thead>\n",
       "    <tr style=\"text-align: right;\">\n",
       "      <th></th>\n",
       "      <th>index</th>\n",
       "      <th>accuracy</th>\n",
       "      <th>precision</th>\n",
       "      <th>recall</th>\n",
       "      <th>f1</th>\n",
       "    </tr>\n",
       "  </thead>\n",
       "  <tbody>\n",
       "    <tr>\n",
       "      <th>0</th>\n",
       "      <td>naive_bayes_model</td>\n",
       "      <td>72.183238</td>\n",
       "      <td>0.718647</td>\n",
       "      <td>0.721832</td>\n",
       "      <td>0.698925</td>\n",
       "    </tr>\n",
       "    <tr>\n",
       "      <th>1</th>\n",
       "      <td>token_model</td>\n",
       "      <td>80.904938</td>\n",
       "      <td>0.814609</td>\n",
       "      <td>0.809049</td>\n",
       "      <td>0.804115</td>\n",
       "    </tr>\n",
       "    <tr>\n",
       "      <th>2</th>\n",
       "      <td>use_model</td>\n",
       "      <td>76.032702</td>\n",
       "      <td>0.756348</td>\n",
       "      <td>0.760327</td>\n",
       "      <td>0.756100</td>\n",
       "    </tr>\n",
       "    <tr>\n",
       "      <th>3</th>\n",
       "      <td>char_model</td>\n",
       "      <td>61.852906</td>\n",
       "      <td>0.599903</td>\n",
       "      <td>0.618529</td>\n",
       "      <td>0.593741</td>\n",
       "    </tr>\n",
       "    <tr>\n",
       "      <th>4</th>\n",
       "      <td>token_char_model</td>\n",
       "      <td>76.701311</td>\n",
       "      <td>0.763360</td>\n",
       "      <td>0.767013</td>\n",
       "      <td>0.761908</td>\n",
       "    </tr>\n",
       "    <tr>\n",
       "      <th>5</th>\n",
       "      <td>token_char_positional_model</td>\n",
       "      <td>85.178075</td>\n",
       "      <td>0.852884</td>\n",
       "      <td>0.851781</td>\n",
       "      <td>0.847705</td>\n",
       "    </tr>\n",
       "  </tbody>\n",
       "</table>\n",
       "</div>"
      ],
      "text/plain": [
       "                         index   accuracy  precision    recall        f1\n",
       "0            naive_bayes_model  72.183238   0.718647  0.721832  0.698925\n",
       "1                  token_model  80.904938   0.814609  0.809049  0.804115\n",
       "2                    use_model  76.032702   0.756348  0.760327  0.756100\n",
       "3                   char_model  61.852906   0.599903  0.618529  0.593741\n",
       "4             token_char_model  76.701311   0.763360  0.767013  0.761908\n",
       "5  token_char_positional_model  85.178075   0.852884  0.851781  0.847705"
      ]
     },
     "execution_count": 189,
     "metadata": {},
     "output_type": "execute_result"
    }
   ],
   "source": [
    "all_models_results = pd.DataFrame({\n",
    "    'naive_bayes_model': baseline_results,\n",
    "    'token_model': model_1_results,\n",
    "    'use_model': model_2_results,\n",
    "    'char_model': model_3_results,\n",
    "    'token_char_model': model_4_results,\n",
    "    'token_char_positional_model': model_5_results\n",
    "})\n",
    "\n",
    "all_models_results = all_models_results.transpose()\n",
    "all_models_results.reset_index(inplace = True)\n",
    "all_models_results"
   ]
  },
  {
   "cell_type": "code",
   "execution_count": 190,
   "metadata": {
    "id": "KUbfkMiNpqnQ"
   },
   "outputs": [
    {
     "data": {
      "text/plain": [
       "<matplotlib.legend.Legend at 0x760d6b2b29b0>"
      ]
     },
     "execution_count": 190,
     "metadata": {},
     "output_type": "execute_result"
    },
    {
     "data": {
      "image/png": "[encoded data removed]",
      "text/plain": [
       "<Figure size 1000x700 with 1 Axes>"
      ]
     },
     "metadata": {},
     "output_type": "display_data"
    }
   ],
   "source": [
    "all_models_results.plot(kind = 'bar', figsize = (10,7)).legend(bbox_to_anchor = (1.0,1.0))"
   ]
  },
  {
   "cell_type": "code",
   "execution_count": 191,
   "metadata": {
    "id": "uMd_h-WR889n"
   },
   "outputs": [],
   "source": [
    "test_token_char_positional_data = tf.data.Dataset.from_tensor_slices((test_line_numbers_one_hot_encoded, test_total_lines_one_hot_encoded, test_sentences, test_chars))\n",
    "test_token_char_positional_labels = tf.data.Dataset.from_tensor_slices(test_labels_one_hot_encoded)\n",
    "test_token_char_positional_dataset = tf.data.Dataset.zip((test_token_char_positional_data, test_token_char_positional_labels))\n",
    "test_token_char_positional_dataset = test_token_char_positional_dataset.batch(32).prefetch(tf.data.AUTOTUNE)"
   ]
  },
  {
   "cell_type": "code",
   "execution_count": 192,
   "metadata": {
    "id": "WlKVHItb9uxu"
   },
   "outputs": [
    {
     "name": "stdout",
     "output_type": "stream",
     "text": [
      "\u001b[1m942/942\u001b[0m \u001b[32m━━━━━━━━━━━━━━━━━━━━\u001b[0m\u001b[37m\u001b[0m \u001b[1m29s\u001b[0m 31ms/step\n"
     ]
    }
   ],
   "source": [
    "model_5_test_preds = tf.argmax(model_5.predict(test_token_char_positional_dataset), axis = 1)"
   ]
  },
  {
   "cell_type": "code",
   "execution_count": 193,
   "metadata": {
    "id": "8LUzh8SJ99Zo"
   },
   "outputs": [],
   "source": [
    "model_5_test_results = calculate_results(y_true = test_labels_label_encoded,\n",
    "                                         y_pred = model_5_test_preds)"
   ]
  },
  {
   "cell_type": "code",
   "execution_count": 194,
   "metadata": {
    "id": "KQMSmuqr99O8"
   },
   "outputs": [
    {
     "data": {
      "text/plain": [
       "{'accuracy': 84.65903434544549,\n",
       " 'precision': 0.8467828093433831,\n",
       " 'recall': 0.8465903434544549,\n",
       " 'f1': 0.8424060813861306}"
      ]
     },
     "execution_count": 194,
     "metadata": {},
     "output_type": "execute_result"
    }
   ],
   "source": [
    "model_5_test_results"
   ]
  }
 ],
 "metadata": {
  "accelerator": "GPU",
  "colab": {
   "gpuType": "T4",
   "provenance": []
  },
  "kernelspec": {
   "display_name": "Python (skimlitvenv)",
   "language": "python",
   "name": "skimlitvenv"
  },
  "language_info": {
   "codemirror_mode": {
    "name": "ipython",
    "version": 3
   },
   "file_extension": ".py",
   "mimetype": "text/x-python",
   "name": "python",
   "nbconvert_exporter": "python",
   "pygments_lexer": "ipython3",
   "version": "3.10.12"
  }
 },
 "nbformat": 4,
 "nbformat_minor": 4
}
