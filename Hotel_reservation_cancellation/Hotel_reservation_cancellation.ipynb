{
 "cells": [
  {
   "attachments": {},
   "cell_type": "markdown",
   "id": "5b007dc7",
   "metadata": {},
   "source": [
    "## Introduction\n",
    "\n",
    "Predicting hotel reservation cancellations is a critical aspect of hotel revenue management. The rise of online booking platforms has given customers the flexibility to easily book and cancel reservations, leading to significant fluctuations in hotel occupancy rates. While this flexibility benefits customers, it poses challenges for hotels in terms of revenue management, resource allocation, and customer service.\n",
    "\n",
    "This project aims to address these challenges by developing a machine learning model that can accurately predict hotel reservation cancellations. By analyzing historical booking data, including various features such as booking lead time, customer demographics, and booking details, the model can identify patterns and factors that contribute to reservation cancellations. This predictive capability allows hotels to implement proactive measures to reduce cancellations, optimize occupancy rates, and enhance overall operational efficiency.\n",
    "\n",
    "## Objective\n",
    "\n",
    "The primary objectives of this project are as follows:\n",
    "\n",
    "1. **Data Exploration and Visualization**:\n",
    "   - Gain insights into the distribution and relationships of various features within the hotel reservation dataset.\n",
    "   - Identify key factors that influence the likelihood of reservation cancellations through visualizations and statistical analysis.\n",
    "\n",
    "2. **Data Preprocessing**:\n",
    "   - Clean and preprocess the dataset to ensure it is suitable for modeling.\n",
    "   - Handle missing values, encode categorical variables, and standardize numerical features to prepare the data for machine learning algorithms.\n",
    "\n",
    "3. **Model Development**:\n",
    "   - Develop and train multiple machine learning models, including Decision Tree Classifier, Random Forest Classifier, and Logistic Regression, to predict reservation cancellations.\n",
    "   - Use techniques such as hyperparameter tuning and cross-validation to optimize model performance.\n",
    "\n",
    "4. **Model Evaluation**:\n",
    "   - Evaluate the performance of the trained models using metrics such as accuracy, precision, recall, and F1-score.\n",
    "   - Compare the models to identify the best-performing model for predicting reservation cancellations.\n",
    "\n",
    "5. **Implementation and Usage**:\n",
    "   - Implement the best-performing model to predict cancellations for new reservations.\n",
    "   - Provide actionable insights and recommendations for hotel management to reduce cancellation rates and optimize revenue.\n",
    "\n",
    "## Dataset\n",
    "\n",
    "The dataset used for this project is the \"Hotel Reservations Data\" available on Kaggle. It contains detailed information on hotel reservations, including features such as:\n",
    "- Booking ID\n",
    "- Number of adults and children\n",
    "- Duration of stay (weekend and weekday nights)\n",
    "- Meal type\n",
    "- Car parking space requirement\n",
    "- Booking lead time\n",
    "- Arrival details (year, month, date)\n",
    "- Market segment\n",
    "- Repeated guest flag\n",
    "- Previous cancellations and bookings not canceled\n",
    "- Average price per room\n",
    "- Number of special requests\n",
    "- Booking status (canceled or not)\n",
    "\n",
    "The dataset can be accessed and downloaded from the following link: [Kaggle Hotel Reservations Data](https://www.kaggle.com/datasets/ahsan81/hotel-reservations-classification-dataset).\n",
    "\n",
    "**Install Required Packages**:\n",
    "\n",
    "   - To enhance the functionality of the CoreAI environment, you may need to install some libraries not pre-installed but required for this notebook. Follow these steps to install the necessary libraries from the `requirements.txt` file:\n",
    "\n",
    "   **2.1 Create and Activate the Virtual Environment:**\n",
    "   \n",
    "   Open your terminal or command prompt within the jupyter notebook. `File -> New -> Terminal`\n",
    "   \n",
    "   Navigate to the project directory where you want to set up the environment.\n",
    "   \n",
    "   Execute the following commands to create and activate the virtual environment:\n",
    "   \n",
    "```bash\n",
    "python3 -m venv --system-site-packages myvenv #myvenv is name of virtual environment you can change it\n",
    "source myvenv/bin/activate\n",
    "pip3 install ipykernel\n",
    "python -m ipykernel install --user --name=myvenv --display-name=\"Python (myvenv)\"\n",
    "```\n",
    "   **2.2 Install Required Libraries**\n",
    "   \n",
    "   Ensure to start the `Python (myvenv)` kernel before continuing."
   ]
  },
  {
   "cell_type": "code",
   "execution_count": null,
   "id": "bde9d72c-99aa-4321-bb97-072b308a6546",
   "metadata": {},
   "outputs": [],
   "source": [
    "!. ./myvenv/bin/activate; pip install -r requirements.txt"
   ]
  },
  {
   "cell_type": "code",
   "execution_count": null,
   "id": "1792d2ac-3370-4e1d-aea4-ffa19420864f",
   "metadata": {},
   "outputs": [],
   "source": [
    "import pandas as pd\n",
    "import numpy as np\n",
    "import matplotlib.pyplot as plt\n",
    "import seaborn as sns"
   ]
  },
  {
   "cell_type": "code",
   "execution_count": null,
   "id": "948a3194-9761-488b-b538-ce11b520e38c",
   "metadata": {},
   "outputs": [],
   "source": [
    "hotel_data= pd.read_csv('data/Hotel Reservations.csv')\n",
    "hotel_data.head(2)"
   ]
  },
  {
   "cell_type": "markdown",
   "id": "8fb223ae-2a86-416c-ab66-e22e9a854a22",
   "metadata": {},
   "source": [
    "# Statistical Summary of dataset"
   ]
  },
  {
   "cell_type": "code",
   "execution_count": null,
   "id": "9c88ed4c-b5d0-4a53-af21-ceea49081881",
   "metadata": {},
   "outputs": [],
   "source": [
    "hotel_data.info()"
   ]
  },
  {
   "cell_type": "code",
   "execution_count": null,
   "id": "ab958e5a-d72f-4712-a146-89e5b832ebb5",
   "metadata": {},
   "outputs": [],
   "source": [
    "hotel_data.describe()"
   ]
  },
  {
   "cell_type": "markdown",
   "id": "10e21235-e169-4d60-a713-4095797e7b91",
   "metadata": {},
   "source": [
    "From the information above, we can conclude that `required_car_parking_space`, `repeated_guest`, and `no_of_special_requests` are categorical columns, although they have been read as integers. Therefore, we will first convert them into categorical data types."
   ]
  },
  {
   "cell_type": "code",
   "execution_count": null,
   "id": "75599d15-10a5-4193-bfc8-8440e4bcfa9c",
   "metadata": {},
   "outputs": [],
   "source": [
    "# Converting datatype of columns\n",
    "hotel_data['required_car_parking_space']= hotel_data['required_car_parking_space'].astype('category')\n",
    "hotel_data['repeated_guest']= hotel_data['repeated_guest'].astype('category')\n",
    "hotel_data['no_of_special_requests']= hotel_data['no_of_special_requests'].astype('category')\n",
    "hotel_data.info()"
   ]
  },
  {
   "cell_type": "markdown",
   "id": "488f274e-86ae-4cdb-a376-81481170036e",
   "metadata": {},
   "source": [
    "From `describe we can notice that minimum average price of room is zero so we will replace it with average"
   ]
  },
  {
   "cell_type": "code",
   "execution_count": null,
   "id": "56924fb6-f7c0-4af2-b774-624ac6cd165f",
   "metadata": {},
   "outputs": [],
   "source": [
    "hotel_data['avg_price_per_room'].replace(0,hotel_data['avg_price_per_room'].mean(),inplace=True)"
   ]
  },
  {
   "cell_type": "code",
   "execution_count": null,
   "id": "d72acdd9-bb55-4c75-afd6-33b14c672978",
   "metadata": {},
   "outputs": [],
   "source": [
    "hotel_data.head()"
   ]
  },
  {
   "cell_type": "code",
   "execution_count": null,
   "id": "fca8235e-25e9-4cf9-86bb-c7e928e63e10",
   "metadata": {},
   "outputs": [],
   "source": [
    "hotel_data['date of arrival'] = hotel_data['arrival_year'].astype(str) + '-' + hotel_data['arrival_month'].astype(str) + '-' + hotel_data['arrival_date'].astype(str)\n",
    "\n",
    "hotel_data['date of arrival'] = pd.to_datetime(hotel_data['date of arrival'], errors='coerce')\n"
   ]
  },
  {
   "cell_type": "code",
   "execution_count": null,
   "id": "e9e8707a-2998-455e-85e3-33ecd410a5e6",
   "metadata": {},
   "outputs": [],
   "source": [
    "hotel_data.head()"
   ]
  },
  {
   "cell_type": "markdown",
   "id": "bf4576f1-9742-46c3-ba00-28780795fb67",
   "metadata": {},
   "source": [
    "# Exploratory Data Analysis"
   ]
  },
  {
   "cell_type": "code",
   "execution_count": null,
   "id": "b97675f6-acfe-43d6-9524-0d2f5348a469",
   "metadata": {},
   "outputs": [],
   "source": [
    "#1. \n",
    "set1_palette = plt.get_cmap('Set1')\n",
    "\n",
    "color=[set1_palette(0)  ,set1_palette(1) ]\n",
    "plt.pie(hotel_data['booking_status'].value_counts(),autopct='%1.2f%%',labels=hotel_data['booking_status'].unique(), colors = color)\n",
    "plt.title('Distribution of Booking Status', fontsize=16,loc='center',color='Brown')\n",
    "plt.show()"
   ]
  },
  {
   "cell_type": "markdown",
   "id": "71a899ae-4ccc-4284-8731-a688db8e64c9",
   "metadata": {},
   "source": [
    "- The pie chart shows that a significant majority of bookings, 67.24%, are not canceled, while 32.76% are canceled, highlighting a relatively high booking retention rate at the hotel."
   ]
  },
  {
   "cell_type": "code",
   "execution_count": null,
   "id": "cd1df91d-b499-46d6-9101-ad1dda1246cb",
   "metadata": {},
   "outputs": [],
   "source": [
    "#2. Guest information\n",
    "\n",
    "fig, ax = plt.subplots(1,2,figsize=(15,5))\n",
    "sns.countplot( x = 'no_of_adults', data = hotel_data, ax=ax[0]).set_title('Number of Adults')\n",
    "sns.countplot( x = 'no_of_children', data = hotel_data, ax=ax[1]).set_title('Number of Children')"
   ]
  },
  {
   "cell_type": "markdown",
   "id": "e003e544-f38d-4557-9373-547f5b19170b",
   "metadata": {},
   "source": [
    "- The majority of bookings are made by groups with two adults, with a significantly lower number of bookings for groups with one or three adults.\n",
    "- Most bookings involve no children, with a steep drop-off for bookings with one or more children, indicating that families without children or with fewer children are more common among the hotel's guests."
   ]
  },
  {
   "cell_type": "code",
   "execution_count": null,
   "id": "7abf8469-ce23-466f-9310-5704634ced16",
   "metadata": {},
   "outputs": [],
   "source": [
    "#3. Time Spent at Hotel\n",
    "\n",
    "fig, ax = plt.subplots(1,2,figsize=(15,5))\n",
    "sns.countplot(x = 'no_of_weekend_nights', data = hotel_data, ax=ax[0]).set_title('Number of Weekend Nights')\n",
    "sns.countplot(x = 'no_of_week_nights', data = hotel_data, ax=ax[1]).set_title('Number of Week Nights')"
   ]
  },
  {
   "cell_type": "markdown",
   "id": "1e51ff86-5479-4d81-b8a0-985b38b3f92d",
   "metadata": {},
   "source": [
    "- The majority of bookings are for stays that do not include any weekend nights, followed by bookings with one or two weekend nights, indicating a preference for weekday stays or shorter weekend getaways.\n",
    "- For weeknights, most bookings are for stays of one to four nights, with two nights being the most common, suggesting that guests typically prefer shorter stays during the week."
   ]
  },
  {
   "cell_type": "code",
   "execution_count": null,
   "id": "c8e0a651-9d8c-4fa5-b862-dc5375aa557d",
   "metadata": {},
   "outputs": [],
   "source": [
    "#4. Date of arrival\n",
    "\n",
    "fig, ax = plt.subplots(2,2,figsize=(20,10))\n",
    "\n",
    "#year of arrival\n",
    "ax[0,0].pie(hotel_data['date of arrival'].dt.year.value_counts(), labels = [2018,2017], autopct='%1.1f%%', shadow=True, startangle=90)\n",
    "ax[0,0].set_title('Year of arrival')\n",
    "\n",
    "#month of arrival   \n",
    "sns.histplot(x = hotel_data['date of arrival'].dt.month, ax=ax[0,1], bins=12, hue = hotel_data['date of arrival'].dt.year, palette = 'Set1').set_title('Month of arrival')\n",
    "\n",
    "#day of arrival\n",
    "sns.histplot(x = hotel_data['date of arrival'].dt.day, ax=ax[1,0], bins=31, hue = hotel_data['date of arrival'].dt.year, palette = 'Set1').set_title('Day of arrival')\n",
    "\n",
    "#day of week of arrival\n",
    "sns.histplot(x = hotel_data['date of arrival'].dt.dayofweek, ax=ax[1,1], bins=7, hue = hotel_data['date of arrival'].dt.year, palette = 'Set1').set_title('Day of week of arrival')"
   ]
  },
  {
   "cell_type": "markdown",
   "id": "80b8a6f4-c471-4389-b4f0-817f54971e06",
   "metadata": {},
   "source": [
    "- **Year of arrival**: The majority of arrivals occurred in 2018, accounting for 82% of the total, while only 18% of arrivals were in 2017.\n",
    "- **Month of arrival**: Arrivals are fairly evenly distributed throughout the months, with noticeable peaks in the middle and towards the end of the year, particularly in August and October.\n",
    "- **Day of arrival**: Arrivals are relatively evenly spread across the days of the month, with a slight increase in arrivals around the middle of the month.\n",
    "- **Day of week of arrival**: Most arrivals occur on Fridays (day 5), indicating a preference for starting stays towards the weekend, with fewer arrivals on Mondays (day 0) and Tuesdays (day 1)."
   ]
  },
  {
   "cell_type": "code",
   "execution_count": null,
   "id": "5310abdc-4a3a-4fa5-94bb-3c0c39903153",
   "metadata": {},
   "outputs": [],
   "source": [
    "#5. Services\n",
    "\n",
    "fig, ax = plt.subplots(2, 2, figsize=(20, 20))\n",
    "fig.subplots_adjust(hspace=0.5)\n",
    "\n",
    "# Pie chart for type_of_meal_plan\n",
    "meal_plan_counts = hotel_data['type_of_meal_plan'].value_counts()\n",
    "explode_meal_plan = [0.1] * len(meal_plan_counts)  # Adjust the length based on number of categories\n",
    "wedges, texts, autotexts = ax[0, 0].pie(meal_plan_counts, autopct='%1.3f%%', explode=explode_meal_plan, pctdistance=0.85)\n",
    "ax[0, 0].set_title('Type of Meal Plan Distribution')\n",
    "ax[0, 0].legend(wedges, meal_plan_counts.index, title=\"Meal Plan\", loc=\"center left\", bbox_to_anchor=(1, 0, 0.5, 1))\n",
    "\n",
    "# Pie chart for room_type_reserved\n",
    "room_type_counts = hotel_data['room_type_reserved'].value_counts()\n",
    "explode_room_type = [0, 0, 0, 0, 0.6, 0.6,1.5] \n",
    "wedges, texts, autotexts = ax[0, 1].pie(room_type_counts, autopct='%1.3f%%', explode=explode_room_type, pctdistance=1.1)\n",
    "ax[0, 1].set_title('Room Type Reserved Distribution')\n",
    "ax[0, 1].legend(wedges, room_type_counts.index, title=\"Room Type\", loc=\"lower left\", bbox_to_anchor=(1, 0, 0.5, 1))\n",
    "\n",
    "# Pie chart for required_car_parking_space\n",
    "parking_counts = hotel_data['required_car_parking_space'].value_counts()\n",
    "explode_parking = [0.1] * len(parking_counts)\n",
    "wedges, texts, autotexts = ax[1, 0].pie(parking_counts, autopct='%1.1f%%', explode=explode_parking, pctdistance=0.85)\n",
    "ax[1, 0].set_title('Required Car Parking Space Distribution')\n",
    "ax[1, 0].legend(wedges, parking_counts.index, title=\"Car Parking\", loc=\"lower left\", bbox_to_anchor=(1, 0, 0.5, 1))\n",
    "\n",
    "# Pie chart for no_of_special_requests with adjusted explode values\n",
    "requests_counts = hotel_data['no_of_special_requests'].value_counts()\n",
    "explode_requests = [0, 0, 0, 0, 0.6, 1.5]  # Larger explode for categories 4 and 5\n",
    "wedges, texts, autotexts = ax[1, 1].pie(requests_counts, autopct='%1.3f%%', explode=explode_requests, pctdistance=1.1)\n",
    "ax[1, 1].set_title('Number of Special Requests Distribution')\n",
    "ax[1, 1].legend(wedges, requests_counts.index, title=\"Special Requests\", loc=\"lower left\", bbox_to_anchor=(1, 0, 0.5, 1))\n",
    "\n",
    "plt.show()\n"
   ]
  },
  {
   "cell_type": "markdown",
   "id": "52054f33-5641-4fac-b83a-4d340cb5edf4",
   "metadata": {},
   "source": [
    "- **Type of Meal Plan Distribution**: The vast majority of guests (76.733%) select Meal Plan 1, with a smaller percentage opting for Meal Plan 2 (9.111%) and Meal Plan 3 (0.014%), while 14.142% of guests do not select any meal plan.\n",
    "- **Room Type Reserved Distribution**: Room Type 1 is the most popular, reserved by 77.547% of guests, followed by Room Type 4 at 16.697%. Other room types have significantly lower reservation rates.\n",
    "- **Required Car Parking Space Distribution**: Most guests (96.9%) do not require a car parking space, while only 3.1% of guests do.\n",
    "- **Number of Special Requests Distribution**: More than half of the guests (54.520%) have no special requests, while 31.352% have one special request, and the remaining guests have two or more special requests."
   ]
  },
  {
   "cell_type": "code",
   "execution_count": null,
   "id": "a612b72c-e2b3-4765-8dbd-34b8906382cd",
   "metadata": {},
   "outputs": [],
   "source": [
    "#6. Market Segment\n",
    "import squarify\n",
    "counts = hotel_data['market_segment_type'].value_counts().reset_index()\n",
    "counts.columns = ['market_segment_type', 'counts']\n",
    "\n",
    "# Plot the treemap\n",
    "plt.figure(figsize=(12, 8))\n",
    "squarify.plot(sizes=counts['counts'], label=counts['market_segment_type'], alpha=.8, color=sns.color_palette(\"Set3_r\", len(counts)),value=counts['counts'])\n",
    "plt.axis('off')\n",
    "plt.title('Market Segment Type Counts')\n",
    "plt.show()"
   ]
  },
  {
   "cell_type": "markdown",
   "id": "7d580ce5-7339-47af-9703-99b1713a4e73",
   "metadata": {},
   "source": [
    "- The majority of bookings come from the online segment, which constitutes a significant portion (23,214) of the total bookings, followed by the offline segment (10,528), while corporate, complementary, and aviation segments account for a much smaller share."
   ]
  },
  {
   "cell_type": "code",
   "execution_count": null,
   "id": "aeb6b62f-f8f2-43ce-a01d-71ce7864b805",
   "metadata": {},
   "outputs": [],
   "source": [
    "#7. \n",
    "x_labels=['No','Yes']\n",
    "plt.figure(figsize=(8, 6))\n",
    "sns.countplot(x='repeated_guest', data=hotel_data)\n",
    "plt.title('Repeated Guest')\n",
    "plt.xticks(hotel_data['repeated_guest'].unique(),x_labels)\n",
    "\n",
    "plt.show()"
   ]
  },
  {
   "cell_type": "markdown",
   "id": "01a3f8d2-55f5-4499-9e87-1bddac40b23f",
   "metadata": {},
   "source": [
    "- The vast majority of guests are not repeat visitors, indicating that most bookings are made by new guests rather than returning ones."
   ]
  },
  {
   "cell_type": "code",
   "execution_count": null,
   "id": "e9cb983b-e49e-4931-ba5b-cb91909161e9",
   "metadata": {},
   "outputs": [],
   "source": [
    "#8. \n",
    "fig, ax = plt.subplots(1,2,figsize=(15,5))\n",
    "sns.countplot(x = 'no_of_weekend_nights', data = hotel_data, ax=ax[0], hue = 'booking_status').set_title('Number of Weekend Nights')\n",
    "sns.countplot(x = 'no_of_week_nights', data = hotel_data, ax=ax[1], hue = 'booking_status').set_title('Number of Week Nights')\n",
    "ax[0].set_yticks(range(-1000, int(ax[0].get_ylim()[1]) + 1, 2000))\n",
    "ax[1].set_yticks(range(-1000, int(ax[1].get_ylim()[1]) + 1, 2000))\n"
   ]
  },
  {
   "cell_type": "markdown",
   "id": "e87e7c4d-de08-4594-8a62-3b5fa485faf9",
   "metadata": {},
   "source": [
    "- **Number of Weekend Nights**: Bookings without any weekend nights have a higher cancellation rate compared to those with one or more weekend nights, suggesting that weekend stays might be less prone to cancellation.\n",
    "- **Number of Week Nights**: Stays of one to three weeknights are more likely to be not canceled, whereas stays longer than four weeknights show a higher cancellation rate, indicating that shorter stays during the week are more stable."
   ]
  },
  {
   "cell_type": "code",
   "execution_count": null,
   "id": "3b68eca4-5173-461b-aeb0-65cc9e615ef4",
   "metadata": {},
   "outputs": [],
   "source": [
    "#9.\n",
    "\n",
    "fig,ax = plt.subplots(4,2,figsize=(20,20))\n",
    "df_2017 = hotel_data[hotel_data['date of arrival'].dt.year == 2017]\n",
    "df_2018 = hotel_data[hotel_data['date of arrival'].dt.year == 2018]\n",
    "\n",
    "#year wise\n",
    "sns.countplot(x = df_2017['booking_status'], data = df_2017, ax=ax[0,0]).set_title('Cancellation in 2017')\n",
    "sns.countplot(x = df_2018['booking_status'], data = df_2018, ax=ax[0,1]).set_title('Cancellation in 2018')\n",
    "\n",
    "#month wise\n",
    "sns.histplot(x = df_2017['date of arrival'].dt.month, data = df_2017, ax=ax[1,0], bins=6, hue = df_2017['booking_status'], palette = 'Set1', multiple = 'stack').set_title('Cancellation by months in 2017')\n",
    "sns.histplot(x = df_2018['date of arrival'].dt.month, data = df_2018, ax=ax[1,1], bins=12, hue = df_2018['booking_status'], palette = 'Set1', multiple ='stack').set_title('Cancellation by months in 2018')\n",
    "\n",
    "#date wise\n",
    "sns.histplot(x = df_2017['date of arrival'].dt.day, data = df_2017, ax=ax[2,0], bins=31, hue = df_2017['booking_status'], palette = 'Set1', multiple='stack').set_title('Cancellation by date in 2017')\n",
    "sns.histplot(x = df_2018['date of arrival'].dt.day, data = df_2018, ax=ax[2,1], bins=31, hue = df_2018['booking_status'], palette = 'Set1', multiple ='stack').set_title('Cancellation by date in 2018')\n",
    "\n",
    "#day of week wise\n",
    "sns.histplot(x = df_2017['date of arrival'].dt.dayofweek, data = df_2017, ax=ax[3,0], bins=7, hue = df_2017['booking_status'], palette = 'Set1', multiple = 'stack').set_title('Cancellation by day of week in 2017')\n",
    "sns.histplot(x = df_2018['date of arrival'].dt.dayofweek, data = df_2018, ax=ax[3,1], bins=7, hue = df_2018['booking_status'], palette = 'Set1', multiple = 'stack').set_title('Cancellation by day of week in 2018')"
   ]
  },
  {
   "cell_type": "markdown",
   "id": "2b9565e8-9039-4151-9f93-d32f968631d8",
   "metadata": {},
   "source": [
    "- **Cancellation in 2017**: The majority of bookings in 2017 were not canceled, with a significantly lower number of cancellations observed.\n",
    "- **Cancellation in 2018**: Similarly, most bookings in 2018 were not canceled, though the number of cancellations is higher compared to 2017.\n",
    "- **Cancellation by months in 2017**: The number of cancellations increases towards the later months of the year, with September and October showing the highest rates of cancellations.\n",
    "- **Cancellation by months in 2018**: Cancellations are more evenly distributed throughout the year in 2018, with slight peaks in March, July, and September.\n",
    "- **Cancellation by date in 2017**: Cancellations in 2017 are spread across the month, with a higher concentration around the middle of the month.\n",
    "- **Cancellation by date in 2018**: In 2018, cancellations are relatively evenly distributed throughout the month, with no significant peaks.\n",
    "- **Cancellation by day of week in 2017**: Cancellations are higher towards the beginning of the week, particularly on Mondays.\n",
    "- **Cancellation by day of week in 2018**: The pattern of cancellations in 2018 shows higher cancellations towards the end of the week, especially on Fridays and Saturdays."
   ]
  },
  {
   "cell_type": "code",
   "execution_count": null,
   "id": "2e14eb35-ccd8-438c-b672-d98891a92a4b",
   "metadata": {},
   "outputs": [],
   "source": [
    "#10. Avg. room price\n",
    "sns.histplot(x = 'avg_price_per_room', data = hotel_data, bins = 100, hue = 'booking_status', multiple = 'stack').set_title('Average Room Price')"
   ]
  },
  {
   "cell_type": "markdown",
   "id": "03116338-fd83-4e0a-a24e-5c0f75dd5163",
   "metadata": {},
   "source": [
    "- Bookings with lower average room prices (around $50 to $150) have a higher likelihood of being not canceled, while cancellations are more frequent for bookings with room prices in a similar range, though less so as prices increase. This suggests that moderate pricing is a key factor in booking stability."
   ]
  },
  {
   "cell_type": "markdown",
   "id": "1fa0929d-78ab-4168-a7dd-4fa0d2bd92cd",
   "metadata": {},
   "source": [
    "# Data Preprocessing:\n"
   ]
  },
  {
   "cell_type": "code",
   "execution_count": null,
   "id": "f585ec7a-5043-4ced-9ec2-492586624536",
   "metadata": {},
   "outputs": [],
   "source": [
    "# Data Preprocessing:\n",
    "\n",
    "#columns for outlier removal\n",
    "cols = ['lead_time', 'avg_price_per_room']\n",
    "\n",
    "Q1 = hotel_data[cols].quantile(0.25)\n",
    "Q3 = hotel_data[cols].quantile(0.75)\n",
    "IQR = Q3 - Q1\n",
    "\n",
    "#removing outliers\n",
    "hotel_data = hotel_data[~((hotel_data[cols] < (Q1 - 1.5 * IQR)) |(hotel_data[cols] > (Q3 + 1.5 * IQR))).any(axis=1)]"
   ]
  },
  {
   "cell_type": "code",
   "execution_count": null,
   "id": "cb9965f5-6fc2-4017-a684-d221e4d83c35",
   "metadata": {},
   "outputs": [],
   "source": [
    "# label Encoding:\n",
    "\n",
    "from sklearn.preprocessing import LabelEncoder\n",
    "#label encoding object\n",
    "le = LabelEncoder()\n",
    "\n",
    "#columns to be encoded\n",
    "cols = ['type_of_meal_plan', 'room_type_reserved', 'market_segment_type', 'booking_status']\n",
    "\n",
    "#label encoding\n",
    "for col in cols:\n",
    "    le.fit(hotel_data[col])\n",
    "    hotel_data[col] = le.transform(hotel_data[col])\n",
    "    print(col, hotel_data[col].unique())"
   ]
  },
  {
   "cell_type": "code",
   "execution_count": null,
   "id": "c9cc9361-d6a8-49b1-ae44-8183fbe79838",
   "metadata": {},
   "outputs": [],
   "source": [
    "from sklearn.preprocessing import StandardScaler\n",
    "scaler = StandardScaler()\n",
    "hotel_data[['lead_time', 'avg_price_per_room']] = scaler.fit_transform(hotel_data[['lead_time', 'avg_price_per_room']])"
   ]
  },
  {
   "cell_type": "markdown",
   "id": "c6921b51-e1ea-4017-9ec1-fc47d08a9438",
   "metadata": {},
   "source": [
    "# Correlation Matrix"
   ]
  },
  {
   "cell_type": "code",
   "execution_count": null,
   "id": "85e34ac6-74b9-4dd6-84dc-bcb7538cfff8",
   "metadata": {},
   "outputs": [],
   "source": [
    "plt.figure(figsize=(15,10))\n",
    "data=hotel_data[['no_of_adults',\t'no_of_children',\t'no_of_weekend_nights',\t'no_of_week_nights',\t'type_of_meal_plan',\t'required_car_parking_space',\t'room_type_reserved',\t'lead_time',\t'market_segment_type',\t'repeated_guest',\t'no_of_previous_cancellations',\t'no_of_previous_bookings_not_canceled',\t'avg_price_per_room',\t'no_of_special_requests',\t'booking_status']]\n",
    "sns.heatmap(data.corr(), annot=True, cmap='coolwarm')"
   ]
  },
  {
   "cell_type": "markdown",
   "id": "873299af-ece2-4c13-b276-0dd98a6433cc",
   "metadata": {},
   "source": [
    "## Train Test Split"
   ]
  },
  {
   "cell_type": "code",
   "execution_count": null,
   "id": "c86d1605-1340-407a-9c43-45a30a0c1249",
   "metadata": {},
   "outputs": [],
   "source": [
    "from sklearn.model_selection import train_test_split\n",
    "X_train, X_test, y_train, y_test = train_test_split(data.drop('booking_status', axis=1), data['booking_status'], test_size=0.2, random_state=42)"
   ]
  },
  {
   "cell_type": "markdown",
   "id": "b84fc86b-80e1-43b4-8d8b-a66de3f0e056",
   "metadata": {},
   "source": [
    "## Model Building\n",
    "\n",
    "I will be using the following classification models:\n",
    "- Decision Tree Classifier\n",
    "- Random Forest Classifier\n",
    "- Logistic Regression"
   ]
  },
  {
   "cell_type": "code",
   "execution_count": null,
   "id": "b2edfc06-a2a7-4ba2-baf6-f4bf3d681a29",
   "metadata": {},
   "outputs": [],
   "source": [
    "# Decision Tree\n",
    "\n",
    "from sklearn.tree import DecisionTreeClassifier\n",
    "from sklearn.model_selection import GridSearchCV\n",
    "\n",
    "#decision tree classifier Object\n",
    "dtree = DecisionTreeClassifier()\n",
    "#grid search parameters\n",
    "grid_param = {\n",
    "    'max_depth': [2,4,6,8],\n",
    "    'min_samples_leaf': [2,4,6,8],\n",
    "    'min_samples_split': [2,4,6,8],\n",
    "    'criterion': ['gini', 'entropy'],\n",
    "    'random_state' : [0,42]\n",
    "}\n",
    "\n",
    "#grid search object\n",
    "grid_search = GridSearchCV(estimator=dtree, param_grid=grid_param, cv=5, n_jobs=-1, scoring='accuracy')\n",
    "\n",
    "#fitting the grid search object to the training data\n",
    "grid_search.fit(X_train, y_train)\n",
    "\n",
    "#best parameters\n",
    "print(grid_search.best_params_)"
   ]
  },
  {
   "cell_type": "code",
   "execution_count": null,
   "id": "063df866-9bab-49dc-bd59-49b0b617143c",
   "metadata": {},
   "outputs": [],
   "source": [
    "#decision tree classifier object with best parameters\n",
    "dtree = DecisionTreeClassifier(criterion='entropy', max_depth=8, min_samples_leaf=4, min_samples_split=2, random_state=0)\n",
    "\n",
    "#Training the model\n",
    "dtree.fit(X_train, y_train)\n",
    "\n",
    "#Training accuracy\n",
    "print(dtree.score(X_train, y_train))\n",
    "\n",
    "#Predicting the test set results\n",
    "d_pred = dtree.predict(X_test)"
   ]
  },
  {
   "cell_type": "code",
   "execution_count": null,
   "id": "4901cad7-511e-4df4-adf1-cb22e9d4e237",
   "metadata": {},
   "outputs": [],
   "source": [
    "# Random Forest Classifier\n",
    "from sklearn.ensemble import RandomForestClassifier\n",
    "\n",
    "#random forest classifier object\n",
    "rfc = RandomForestClassifier()\n",
    "\n",
    "from sklearn.model_selection import GridSearchCV\n",
    "\n",
    "#grid search parameters\n",
    "grid_param = {\n",
    "    'max_depth': [2,4,6,8],\n",
    "    'min_samples_leaf': [2,4,6,8],\n",
    "    'min_samples_split': [2,4,6,8],\n",
    "    'criterion': ['gini', 'entropy'],\n",
    "    'random_state' : [0,42]\n",
    "}\n",
    "\n",
    "#grid search object\n",
    "grid_search = GridSearchCV(estimator=rfc, param_grid=grid_param, cv=5, n_jobs=-1)\n",
    "\n",
    "#fitting the grid search object to the training data\n",
    "grid_search.fit(X_train, y_train)\n",
    "\n",
    "#best parameters\n",
    "print(grid_search.best_params_)\n",
    "#random forest classifier object with best parameters\n",
    "rfc = RandomForestClassifier(criterion='entropy', max_depth=8, min_samples_leaf=4, min_samples_split=2, random_state=0)\n",
    "\n",
    "#Training the model\n",
    "rfc.fit(X_train, y_train)\n",
    "\n",
    "#Training accuracy\n",
    "print(rfc.score(X_train, y_train))\n",
    "\n",
    "#Predicting the test set results\n",
    "r_pred = rfc.predict(X_test)"
   ]
  },
  {
   "cell_type": "code",
   "execution_count": null,
   "id": "969f558b-3a47-41a3-97e4-64149b55d734",
   "metadata": {},
   "outputs": [],
   "source": [
    "from sklearn.linear_model import LogisticRegression\n",
    "\n",
    "logreg = LogisticRegression()"
   ]
  },
  {
   "cell_type": "code",
   "execution_count": null,
   "id": "0fd58140-ad17-4d30-a2b0-dc1fca6c9eaa",
   "metadata": {},
   "outputs": [],
   "source": [
    "logreg = LogisticRegression(C=1, penalty='l2', random_state=0, solver='liblinear')\n",
    "logreg.fit(X_train, y_train)\n",
    "print(logreg.score(X_train, y_train))\n",
    "l_pred = logreg.predict(X_test)"
   ]
  },
  {
   "cell_type": "markdown",
   "id": "ecb08291-1997-4691-93d9-b5bbd56e1865",
   "metadata": {},
   "source": [
    "## Model Evaluation"
   ]
  },
  {
   "cell_type": "code",
   "execution_count": null,
   "id": "68d4ef34-6e01-4b0a-9a01-344064c087b5",
   "metadata": {},
   "outputs": [],
   "source": [
    "# Confusion Matrix Heatmap\n",
    "from sklearn.metrics import confusion_matrix\n",
    "\n",
    "fig, ax = plt.subplots(1,3,figsize=(20,5))\n",
    "\n",
    "#decision tree\n",
    "sns.heatmap(confusion_matrix(y_test, d_pred), annot=True, cmap='coolwarm', ax=ax[0]).set_title('Decision Tree')\n",
    "#random forest\n",
    "sns.heatmap(confusion_matrix(y_test, r_pred), annot=True, cmap='coolwarm', ax=ax[1]).set_title('Random Forest')\n",
    "#logistic regression\n",
    "sns.heatmap(confusion_matrix(y_test, l_pred), annot=True, cmap='coolwarm', ax=ax[2]).set_title('Logistic Regression')"
   ]
  },
  {
   "cell_type": "markdown",
   "id": "440155ca-7fc2-42e0-a081-7f414331b679",
   "metadata": {},
   "source": [
    "- **Decision Tree**: The confusion matrix shows that the decision tree model has a high number of true positives and true negatives, indicating it is relatively good at distinguishing between cancellations and non-cancellations, but there are still some false positives and false negatives.\n",
    "- **Random Forest**: The random forest model shows improved accuracy with a higher number of true positives and true negatives compared to the decision tree, reducing the number of false positives and false negatives, suggesting better performance in predicting cancellations.\n",
    "- **Logistic Regression**: The logistic regression model has a comparable number of true positives and true negatives to the decision tree and random forest, but with slightly more false positives and false negatives, indicating it is less effective at predicting cancellations compared to the random forest model."
   ]
  },
  {
   "cell_type": "code",
   "execution_count": null,
   "id": "d59055a7-a2be-477b-87b3-377d9722167d",
   "metadata": {},
   "outputs": [],
   "source": [
    "# Distribution Plot\n",
    "\n",
    "fig, ax  = plt.subplots(1,3,figsize=(20,5))\n",
    "\n",
    "#decision tree\n",
    "sns.distplot(y_test, ax=ax[0], hist= False).set_title('Decision Tree')\n",
    "sns.distplot(d_pred, ax=ax[0], hist = False)\n",
    "\n",
    "#random forest\n",
    "sns.distplot(y_test, ax=ax[1], hist= False).set_title('Random Forest')\n",
    "sns.distplot(r_pred, ax=ax[1], hist = False)\n",
    "\n",
    "#logistic regression\n",
    "sns.distplot(y_test, ax=ax[2], hist= False).set_title('Logistic Regression')\n",
    "sns.distplot(l_pred, ax=ax[2], hist = False)"
   ]
  },
  {
   "cell_type": "markdown",
   "id": "aa1ea527-c325-4a04-8d89-707c1d9ac4e2",
   "metadata": {},
   "source": [
    "- **Decision Tree**: The density plot indicates that the decision tree model has a slight overlap between the densities of canceled and not-canceled bookings, showing that the model is fairly accurate but has some misclassification.\n",
    "- **Random Forest**: The random forest model displays more distinct peaks for canceled and not-canceled bookings, indicating a better separation and higher accuracy in classification compared to the decision tree.\n",
    "- **Logistic Regression**: The logistic regression model also shows distinct density peaks, but with more overlap than the random forest model, suggesting that it is less accurate in distinguishing between canceled and not-canceled bookings."
   ]
  },
  {
   "cell_type": "code",
   "execution_count": null,
   "id": "50840715-eda0-4004-85c6-08d7c3fbcb86",
   "metadata": {},
   "outputs": [],
   "source": [
    "# Classification report\n",
    "\n",
    "from sklearn.metrics import classification_report\n",
    "\n",
    "#decision tree\n",
    "print('Decision Tree')\n",
    "print(classification_report(y_test, d_pred))\n",
    "#random forest\n",
    "print('Random Forest')\n",
    "print(classification_report(y_test, r_pred))\n",
    "#logistic regression\n",
    "print('Logistic Regression')\n",
    "print(classification_report(y_test, l_pred))"
   ]
  },
  {
   "cell_type": "code",
   "execution_count": null,
   "id": "d335cbed-2b6c-489e-8042-dcb5f0115c7e",
   "metadata": {},
   "outputs": [],
   "source": [
    "# Model Metrics\n",
    "\n",
    "from sklearn.metrics import accuracy_score, mean_absolute_error, mean_squared_error\n",
    "\n",
    "#decision tree\n",
    "print('Decision Tree')\n",
    "print('Accuracy Score: ', accuracy_score(y_test, d_pred))\n",
    "print('Mean Absolute Error: ', mean_absolute_error(y_test, d_pred))\n",
    "print('Mean Squared Error: ', mean_squared_error(y_test, d_pred))\n",
    "\n",
    "print('\\n')\n",
    "\n",
    "#random forest\n",
    "print('Random Forest')\n",
    "print('Accuracy Score: ', accuracy_score(y_test, r_pred))\n",
    "print('Mean Absolute Error: ', mean_absolute_error(y_test, r_pred))\n",
    "print('Mean Squared Error: ', mean_squared_error(y_test, r_pred))\n",
    "\n",
    "print('\\n')\n",
    "\n",
    "#logistic regression\n",
    "print('Logistic Regression')\n",
    "print('Accuracy Score: ', accuracy_score(y_test, l_pred))\n",
    "print('Mean Absolute Error: ', mean_absolute_error(y_test, l_pred))\n",
    "print('Mean Squared Error: ', mean_squared_error(y_test, l_pred))"
   ]
  },
  {
   "cell_type": "code",
   "execution_count": null,
   "id": "2e95ac60-8479-4474-a064-777b94021272",
   "metadata": {},
   "outputs": [],
   "source": [
    "# Model comparission\n",
    "\n",
    "fig, ax = plt.subplots(1,3,figsize=(20,5))\n",
    "#Accuracy Score\n",
    "sns.barplot(x = ['Decision Tree', 'Random Forest', 'Logistic Regression'], y = [accuracy_score(y_test, d_pred), accuracy_score(y_test, r_pred), accuracy_score(y_test, l_pred)], ax=ax[0]).set_title('Accuracy Score')\n",
    "#Mean Absolute Error\n",
    "sns.barplot(x = ['Decision Tree', 'Random Forest', 'Logistic Regression'], y = [mean_absolute_error(y_test, d_pred), mean_absolute_error(y_test, r_pred), mean_absolute_error(y_test, l_pred)], ax=ax[1]).set_title('Mean Absolute Error')\n",
    "#Mean Squared Error\n",
    "sns.barplot(x = ['Decision Tree', 'Random Forest', 'Logistic Regression'], y = [mean_squared_error(y_test, d_pred), mean_squared_error(y_test, r_pred), mean_squared_error(y_test, l_pred)], ax=ax[2]).set_title('Mean Squared Error')"
   ]
  },
  {
   "cell_type": "markdown",
   "id": "c59268ca-51b3-4aab-9e60-517d110c1758",
   "metadata": {},
   "source": [
    "- **Accuracy Score** The random forest model has the highest accuracy score among the three models, followed closely by the decision tree, with logistic regression having the lowest accuracy.\n",
    "- **Mean Absolute Error**: The decision tree model has the lowest mean absolute error, indicating better performance in predicting cancellations accurately, while the logistic regression has the highest error.\n",
    "- **Mean Squared Error**: The decision tree model also shows the lowest mean squared error, reinforcing its superior prediction accuracy compared to the random forest and logistic regression models, with logistic regression having the highest error."
   ]
  },
  {
   "cell_type": "code",
   "execution_count": null,
   "id": "4aea3494-dc66-43ae-a36d-0c313e455a40",
   "metadata": {},
   "outputs": [],
   "source": [
    "# Feature Importance:\n",
    "#decision tree\n",
    "feature_importance = pd.DataFrame({'Features': X_train.columns, 'Importance': dtree.feature_importances_})\n",
    "feature_importance.sort_values(by='Importance', ascending=False, inplace=True)\n",
    "sns.barplot(x = 'Importance', y = 'Features', data = feature_importance).set_title('Decision Tree')"
   ]
  },
  {
   "cell_type": "code",
   "execution_count": null,
   "id": "a5cd77b2-b7df-4027-9885-e9f6e7f06f91",
   "metadata": {},
   "outputs": [],
   "source": [
    "#random forest\n",
    "feature_importance = pd.DataFrame({'Features': X_train.columns, 'Importance': rfc.feature_importances_})\n",
    "feature_importance.sort_values(by='Importance', ascending=False, inplace=True)\n",
    "feature_importance.reset_index(drop=True, inplace=True)\n",
    "sns.barplot(x = 'Importance', y = 'Features', data = feature_importance).set_title('Random Forest')"
   ]
  },
  {
   "cell_type": "code",
   "execution_count": null,
   "id": "1107ea4d-8217-4bb2-b0d0-b5b27c5faa73",
   "metadata": {},
   "outputs": [],
   "source": []
  }
 ],
 "metadata": {
  "kernelspec": {
   "display_name": "Python (myvenv)",
   "language": "python",
   "name": "myvenv"
  },
  "language_info": {
   "codemirror_mode": {
    "name": "ipython",
    "version": 3
   },
   "file_extension": ".py",
   "mimetype": "text/x-python",
   "name": "python",
   "nbconvert_exporter": "python",
   "pygments_lexer": "ipython3",
   "version": "3.12.3"
  }
 },
 "nbformat": 4,
 "nbformat_minor": 5
}
